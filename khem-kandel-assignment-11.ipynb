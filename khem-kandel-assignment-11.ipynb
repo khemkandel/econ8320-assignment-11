{
 "cells": [
  {
   "cell_type": "markdown",
   "metadata": {},
   "source": [
    "Apple Product Sales History"
   ]
  },
  {
   "cell_type": "code",
   "execution_count": 62,
   "metadata": {},
   "outputs": [
    {
     "data": {
      "application/vnd.plotly.v1+json": {
       "config": {
        "plotlyServerURL": "https://plot.ly"
       },
       "data": [
        {
         "alignmentgroup": "True",
         "hovertemplate": "DeviceName=Mac<br>Year=%{x}<br>Sales (in Millions)=%{y}<extra></extra>",
         "legendgroup": "Mac",
         "marker": {
          "color": "#636efa",
          "pattern": {
           "shape": ""
          }
         },
         "name": "Mac",
         "offsetgroup": "Mac",
         "orientation": "v",
         "showlegend": true,
         "textposition": "auto",
         "type": "bar",
         "x": {
          "bdata": "zgfPB9AH0QfSB9MH1AfVB9YH1wfYB9kH2gfbB9wH3QfeB98H4AfhB+IH",
          "dtype": "i2"
         },
         "xaxis": "x",
         "y": {
          "bdata": "aJHtfD817j9ANV66SQwPQLgehetRuA5AMQisHFpkCUBiEFg5tMgIQGIQWDm0yAhAdZMYBFYODEArhxbZzvcSQB+F61G4nhZAdZMYBFYOH0DXo3A9CtcjQCuHFtnOdyZAku18PzXeLEAGgZVDi8wxQEw3iUFgBTFAyqFFtvMdMUBKDAIrh5YzQBov3SQGYTRAmG4Sg8CKMkB3vp8aL/0yQB1aZDvfTxBA",
          "dtype": "f8"
         },
         "yaxis": "y"
        },
        {
         "alignmentgroup": "True",
         "hovertemplate": "DeviceName=iPad<br>Year=%{x}<br>Sales (in Millions)=%{y}<extra></extra>",
         "legendgroup": "iPad",
         "marker": {
          "color": "#EF553B",
          "pattern": {
           "shape": ""
          }
         },
         "name": "iPad",
         "offsetgroup": "iPad",
         "orientation": "v",
         "showlegend": true,
         "textposition": "auto",
         "type": "bar",
         "x": {
          "bdata": "zgfPB9AH0QfSB9MH1AfVB9YH1wfYB9kH2gfbB9wH3QfeB98H4AfhB+IH",
          "dtype": "i2"
         },
         "xaxis": "x",
         "y": {
          "bdata": "AAAAAAAAAAAAAAAAAAAAAAAAAAAAAAAAAAAAAAAAAAAAAAAAAAAAAAAAAAAAAAAAAAAAAAAAAAAAAAAAAAAAAAAAAAAAAAAAAAAAAAAAAAAAAAAAAAAAAAAAAAAAAAAAhxbZzveTLUBWDi2ynT9EQMl2vp8ab1BAWmQ730+NUkCS7Xw/Na5PQPT91HjpxkhAoBov3SRGRUCyne+nxutFQGDl0CLbOSJA",
          "dtype": "f8"
         },
         "yaxis": "y"
        },
        {
         "alignmentgroup": "True",
         "hovertemplate": "DeviceName=iPhone<br>Year=%{x}<br>Sales (in Millions)=%{y}<extra></extra>",
         "legendgroup": "iPhone",
         "marker": {
          "color": "#00cc96",
          "pattern": {
           "shape": ""
          }
         },
         "name": "iPhone",
         "offsetgroup": "iPhone",
         "orientation": "v",
         "showlegend": true,
         "textposition": "auto",
         "type": "bar",
         "x": {
          "bdata": "zgfPB9AH0QfSB9MH1AfVB9YH1wfYB9kH2gfbB9wH3QfeB98H4AfhB+IH",
          "dtype": "i2"
         },
         "xaxis": "x",
         "y": {
          "bdata": "AAAAAAAAAAAAAAAAAAAAAAAAAAAAAAAAAAAAAAAAAAAAAAAAAAAAAAAAAAAAAAAAAAAAAAAAAAAAAAAAAAAAAAAAAAAAAAAAbhKDwMqhDUCamZmZmVkrQHsUrkfhGjlAdZMYBFa+R0BKDAIrh0ZXQFpkO99P+WBAsp3vp8YvY0B3vp8aLxVoQAwCK4cW8WxAv58aL93sakAbL90kBvlqQLKd76fGG0pA",
          "dtype": "f8"
         },
         "yaxis": "y"
        }
       ],
       "layout": {
        "barmode": "group",
        "legend": {
         "title": {
          "text": "DeviceName"
         },
         "tracegroupgap": 0
        },
        "margin": {
         "t": 60
        },
        "template": {
         "data": {
          "bar": [
           {
            "error_x": {
             "color": "#2a3f5f"
            },
            "error_y": {
             "color": "#2a3f5f"
            },
            "marker": {
             "line": {
              "color": "#E5ECF6",
              "width": 0.5
             },
             "pattern": {
              "fillmode": "overlay",
              "size": 10,
              "solidity": 0.2
             }
            },
            "type": "bar"
           }
          ],
          "barpolar": [
           {
            "marker": {
             "line": {
              "color": "#E5ECF6",
              "width": 0.5
             },
             "pattern": {
              "fillmode": "overlay",
              "size": 10,
              "solidity": 0.2
             }
            },
            "type": "barpolar"
           }
          ],
          "carpet": [
           {
            "aaxis": {
             "endlinecolor": "#2a3f5f",
             "gridcolor": "white",
             "linecolor": "white",
             "minorgridcolor": "white",
             "startlinecolor": "#2a3f5f"
            },
            "baxis": {
             "endlinecolor": "#2a3f5f",
             "gridcolor": "white",
             "linecolor": "white",
             "minorgridcolor": "white",
             "startlinecolor": "#2a3f5f"
            },
            "type": "carpet"
           }
          ],
          "choropleth": [
           {
            "colorbar": {
             "outlinewidth": 0,
             "ticks": ""
            },
            "type": "choropleth"
           }
          ],
          "contour": [
           {
            "colorbar": {
             "outlinewidth": 0,
             "ticks": ""
            },
            "colorscale": [
             [
              0,
              "#0d0887"
             ],
             [
              0.1111111111111111,
              "#46039f"
             ],
             [
              0.2222222222222222,
              "#7201a8"
             ],
             [
              0.3333333333333333,
              "#9c179e"
             ],
             [
              0.4444444444444444,
              "#bd3786"
             ],
             [
              0.5555555555555556,
              "#d8576b"
             ],
             [
              0.6666666666666666,
              "#ed7953"
             ],
             [
              0.7777777777777778,
              "#fb9f3a"
             ],
             [
              0.8888888888888888,
              "#fdca26"
             ],
             [
              1,
              "#f0f921"
             ]
            ],
            "type": "contour"
           }
          ],
          "contourcarpet": [
           {
            "colorbar": {
             "outlinewidth": 0,
             "ticks": ""
            },
            "type": "contourcarpet"
           }
          ],
          "heatmap": [
           {
            "colorbar": {
             "outlinewidth": 0,
             "ticks": ""
            },
            "colorscale": [
             [
              0,
              "#0d0887"
             ],
             [
              0.1111111111111111,
              "#46039f"
             ],
             [
              0.2222222222222222,
              "#7201a8"
             ],
             [
              0.3333333333333333,
              "#9c179e"
             ],
             [
              0.4444444444444444,
              "#bd3786"
             ],
             [
              0.5555555555555556,
              "#d8576b"
             ],
             [
              0.6666666666666666,
              "#ed7953"
             ],
             [
              0.7777777777777778,
              "#fb9f3a"
             ],
             [
              0.8888888888888888,
              "#fdca26"
             ],
             [
              1,
              "#f0f921"
             ]
            ],
            "type": "heatmap"
           }
          ],
          "histogram": [
           {
            "marker": {
             "pattern": {
              "fillmode": "overlay",
              "size": 10,
              "solidity": 0.2
             }
            },
            "type": "histogram"
           }
          ],
          "histogram2d": [
           {
            "colorbar": {
             "outlinewidth": 0,
             "ticks": ""
            },
            "colorscale": [
             [
              0,
              "#0d0887"
             ],
             [
              0.1111111111111111,
              "#46039f"
             ],
             [
              0.2222222222222222,
              "#7201a8"
             ],
             [
              0.3333333333333333,
              "#9c179e"
             ],
             [
              0.4444444444444444,
              "#bd3786"
             ],
             [
              0.5555555555555556,
              "#d8576b"
             ],
             [
              0.6666666666666666,
              "#ed7953"
             ],
             [
              0.7777777777777778,
              "#fb9f3a"
             ],
             [
              0.8888888888888888,
              "#fdca26"
             ],
             [
              1,
              "#f0f921"
             ]
            ],
            "type": "histogram2d"
           }
          ],
          "histogram2dcontour": [
           {
            "colorbar": {
             "outlinewidth": 0,
             "ticks": ""
            },
            "colorscale": [
             [
              0,
              "#0d0887"
             ],
             [
              0.1111111111111111,
              "#46039f"
             ],
             [
              0.2222222222222222,
              "#7201a8"
             ],
             [
              0.3333333333333333,
              "#9c179e"
             ],
             [
              0.4444444444444444,
              "#bd3786"
             ],
             [
              0.5555555555555556,
              "#d8576b"
             ],
             [
              0.6666666666666666,
              "#ed7953"
             ],
             [
              0.7777777777777778,
              "#fb9f3a"
             ],
             [
              0.8888888888888888,
              "#fdca26"
             ],
             [
              1,
              "#f0f921"
             ]
            ],
            "type": "histogram2dcontour"
           }
          ],
          "mesh3d": [
           {
            "colorbar": {
             "outlinewidth": 0,
             "ticks": ""
            },
            "type": "mesh3d"
           }
          ],
          "parcoords": [
           {
            "line": {
             "colorbar": {
              "outlinewidth": 0,
              "ticks": ""
             }
            },
            "type": "parcoords"
           }
          ],
          "pie": [
           {
            "automargin": true,
            "type": "pie"
           }
          ],
          "scatter": [
           {
            "fillpattern": {
             "fillmode": "overlay",
             "size": 10,
             "solidity": 0.2
            },
            "type": "scatter"
           }
          ],
          "scatter3d": [
           {
            "line": {
             "colorbar": {
              "outlinewidth": 0,
              "ticks": ""
             }
            },
            "marker": {
             "colorbar": {
              "outlinewidth": 0,
              "ticks": ""
             }
            },
            "type": "scatter3d"
           }
          ],
          "scattercarpet": [
           {
            "marker": {
             "colorbar": {
              "outlinewidth": 0,
              "ticks": ""
             }
            },
            "type": "scattercarpet"
           }
          ],
          "scattergeo": [
           {
            "marker": {
             "colorbar": {
              "outlinewidth": 0,
              "ticks": ""
             }
            },
            "type": "scattergeo"
           }
          ],
          "scattergl": [
           {
            "marker": {
             "colorbar": {
              "outlinewidth": 0,
              "ticks": ""
             }
            },
            "type": "scattergl"
           }
          ],
          "scattermap": [
           {
            "marker": {
             "colorbar": {
              "outlinewidth": 0,
              "ticks": ""
             }
            },
            "type": "scattermap"
           }
          ],
          "scattermapbox": [
           {
            "marker": {
             "colorbar": {
              "outlinewidth": 0,
              "ticks": ""
             }
            },
            "type": "scattermapbox"
           }
          ],
          "scatterpolar": [
           {
            "marker": {
             "colorbar": {
              "outlinewidth": 0,
              "ticks": ""
             }
            },
            "type": "scatterpolar"
           }
          ],
          "scatterpolargl": [
           {
            "marker": {
             "colorbar": {
              "outlinewidth": 0,
              "ticks": ""
             }
            },
            "type": "scatterpolargl"
           }
          ],
          "scatterternary": [
           {
            "marker": {
             "colorbar": {
              "outlinewidth": 0,
              "ticks": ""
             }
            },
            "type": "scatterternary"
           }
          ],
          "surface": [
           {
            "colorbar": {
             "outlinewidth": 0,
             "ticks": ""
            },
            "colorscale": [
             [
              0,
              "#0d0887"
             ],
             [
              0.1111111111111111,
              "#46039f"
             ],
             [
              0.2222222222222222,
              "#7201a8"
             ],
             [
              0.3333333333333333,
              "#9c179e"
             ],
             [
              0.4444444444444444,
              "#bd3786"
             ],
             [
              0.5555555555555556,
              "#d8576b"
             ],
             [
              0.6666666666666666,
              "#ed7953"
             ],
             [
              0.7777777777777778,
              "#fb9f3a"
             ],
             [
              0.8888888888888888,
              "#fdca26"
             ],
             [
              1,
              "#f0f921"
             ]
            ],
            "type": "surface"
           }
          ],
          "table": [
           {
            "cells": {
             "fill": {
              "color": "#EBF0F8"
             },
             "line": {
              "color": "white"
             }
            },
            "header": {
             "fill": {
              "color": "#C8D4E3"
             },
             "line": {
              "color": "white"
             }
            },
            "type": "table"
           }
          ]
         },
         "layout": {
          "annotationdefaults": {
           "arrowcolor": "#2a3f5f",
           "arrowhead": 0,
           "arrowwidth": 1
          },
          "autotypenumbers": "strict",
          "coloraxis": {
           "colorbar": {
            "outlinewidth": 0,
            "ticks": ""
           }
          },
          "colorscale": {
           "diverging": [
            [
             0,
             "#8e0152"
            ],
            [
             0.1,
             "#c51b7d"
            ],
            [
             0.2,
             "#de77ae"
            ],
            [
             0.3,
             "#f1b6da"
            ],
            [
             0.4,
             "#fde0ef"
            ],
            [
             0.5,
             "#f7f7f7"
            ],
            [
             0.6,
             "#e6f5d0"
            ],
            [
             0.7,
             "#b8e186"
            ],
            [
             0.8,
             "#7fbc41"
            ],
            [
             0.9,
             "#4d9221"
            ],
            [
             1,
             "#276419"
            ]
           ],
           "sequential": [
            [
             0,
             "#0d0887"
            ],
            [
             0.1111111111111111,
             "#46039f"
            ],
            [
             0.2222222222222222,
             "#7201a8"
            ],
            [
             0.3333333333333333,
             "#9c179e"
            ],
            [
             0.4444444444444444,
             "#bd3786"
            ],
            [
             0.5555555555555556,
             "#d8576b"
            ],
            [
             0.6666666666666666,
             "#ed7953"
            ],
            [
             0.7777777777777778,
             "#fb9f3a"
            ],
            [
             0.8888888888888888,
             "#fdca26"
            ],
            [
             1,
             "#f0f921"
            ]
           ],
           "sequentialminus": [
            [
             0,
             "#0d0887"
            ],
            [
             0.1111111111111111,
             "#46039f"
            ],
            [
             0.2222222222222222,
             "#7201a8"
            ],
            [
             0.3333333333333333,
             "#9c179e"
            ],
            [
             0.4444444444444444,
             "#bd3786"
            ],
            [
             0.5555555555555556,
             "#d8576b"
            ],
            [
             0.6666666666666666,
             "#ed7953"
            ],
            [
             0.7777777777777778,
             "#fb9f3a"
            ],
            [
             0.8888888888888888,
             "#fdca26"
            ],
            [
             1,
             "#f0f921"
            ]
           ]
          },
          "colorway": [
           "#636efa",
           "#EF553B",
           "#00cc96",
           "#ab63fa",
           "#FFA15A",
           "#19d3f3",
           "#FF6692",
           "#B6E880",
           "#FF97FF",
           "#FECB52"
          ],
          "font": {
           "color": "#2a3f5f"
          },
          "geo": {
           "bgcolor": "white",
           "lakecolor": "white",
           "landcolor": "#E5ECF6",
           "showlakes": true,
           "showland": true,
           "subunitcolor": "white"
          },
          "hoverlabel": {
           "align": "left"
          },
          "hovermode": "closest",
          "mapbox": {
           "style": "light"
          },
          "paper_bgcolor": "white",
          "plot_bgcolor": "#E5ECF6",
          "polar": {
           "angularaxis": {
            "gridcolor": "white",
            "linecolor": "white",
            "ticks": ""
           },
           "bgcolor": "#E5ECF6",
           "radialaxis": {
            "gridcolor": "white",
            "linecolor": "white",
            "ticks": ""
           }
          },
          "scene": {
           "xaxis": {
            "backgroundcolor": "#E5ECF6",
            "gridcolor": "white",
            "gridwidth": 2,
            "linecolor": "white",
            "showbackground": true,
            "ticks": "",
            "zerolinecolor": "white"
           },
           "yaxis": {
            "backgroundcolor": "#E5ECF6",
            "gridcolor": "white",
            "gridwidth": 2,
            "linecolor": "white",
            "showbackground": true,
            "ticks": "",
            "zerolinecolor": "white"
           },
           "zaxis": {
            "backgroundcolor": "#E5ECF6",
            "gridcolor": "white",
            "gridwidth": 2,
            "linecolor": "white",
            "showbackground": true,
            "ticks": "",
            "zerolinecolor": "white"
           }
          },
          "shapedefaults": {
           "line": {
            "color": "#2a3f5f"
           }
          },
          "ternary": {
           "aaxis": {
            "gridcolor": "white",
            "linecolor": "white",
            "ticks": ""
           },
           "baxis": {
            "gridcolor": "white",
            "linecolor": "white",
            "ticks": ""
           },
           "bgcolor": "#E5ECF6",
           "caxis": {
            "gridcolor": "white",
            "linecolor": "white",
            "ticks": ""
           }
          },
          "title": {
           "x": 0.05
          },
          "xaxis": {
           "automargin": true,
           "gridcolor": "white",
           "linecolor": "white",
           "ticks": "",
           "title": {
            "standoff": 15
           },
           "zerolinecolor": "white",
           "zerolinewidth": 2
          },
          "yaxis": {
           "automargin": true,
           "gridcolor": "white",
           "linecolor": "white",
           "ticks": "",
           "title": {
            "standoff": 15
           },
           "zerolinecolor": "white",
           "zerolinewidth": 2
          }
         }
        },
        "xaxis": {
         "anchor": "y",
         "domain": [
          0,
          1
         ],
         "title": {
          "text": "Year"
         }
        },
        "yaxis": {
         "anchor": "x",
         "domain": [
          0,
          1
         ],
         "title": {
          "text": "Sales (in Millions)"
         }
        }
       }
      }
     },
     "metadata": {},
     "output_type": "display_data"
    }
   ],
   "source": [
    "import plotly.express as px\n",
    "import pandas as pd\n",
    "import numpy\n",
    "\n",
    "def to_4digit_year(yy):\n",
    "    yy = int(yy)\n",
    "    return 2000 + yy if yy < 50 else 1900 + yy\n",
    "\n",
    "data = pd.read_csv(\"https://raw.githubusercontent.com/kjhealy/apple/refs/heads/master/data/apple-all-products-quarterly-sales.csv\")\n",
    "\n",
    "data[['Quater','Year']] = (data['Time']).str.split('/',expand=True)\n",
    "\n",
    "data = data.fillna(0)\n",
    "\n",
    "#data[:10]\n",
    "\n",
    "subset_data = data[['Year','iPhone','iPad','Mac']]\n",
    "#subset_data[:10]\n",
    "\n",
    "long_subset_data = pd.melt(subset_data, id_vars=['Year'], \n",
    "                  value_vars=['iPhone', 'iPad', 'Mac'], \n",
    "                  var_name='DeviceName', \n",
    "                  value_name='Sales in Millions')\n",
    "\n",
    "long_subset_data['Year'] = long_subset_data['Year'].apply(to_4digit_year)\n",
    "\n",
    "#long_subset_data\n",
    "\n",
    "grouped_long_subset_data = long_subset_data.groupby(['Year','DeviceName'])['Sales in Millions'].sum().reset_index()\n",
    "#grouped_long_subset_data[:10]\n",
    "\n",
    "# Grouped bar chart\n",
    "fig = px.bar(\n",
    "    grouped_long_subset_data,\n",
    "    x='Year',\n",
    "    y='Sales in Millions',\n",
    "    color='DeviceName',         # distinguishes bars side-by-side\n",
    "    barmode='group',       # enables side-by-side bars\n",
    "    labels={\n",
    "        'Year': 'Year',\n",
    "        'Sales in Millions': 'Sales (in Millions)'\n",
    "    }\n",
    ")\n",
    "\n",
    "fig.show()\n"
   ]
  },
  {
   "cell_type": "markdown",
   "metadata": {},
   "source": [
    "Fig 2 - NBA Champions"
   ]
  },
  {
   "cell_type": "code",
   "execution_count": null,
   "metadata": {},
   "outputs": [
    {
     "data": {
      "application/vnd.plotly.v1+json": {
       "config": {
        "plotlyServerURL": "https://plot.ly"
       },
       "data": [
        {
         "customdata": [
          [
           "Baltimore Bullets",
           39.2903848,
           -76.6121893
          ],
          [
           "Boston Celtics",
           42.3600825,
           -71.0588801
          ],
          [
           "Chicago Bulls",
           41.8781136,
           -87.62979820000001
          ],
          [
           "Cleveland Cavaliers",
           41.49932,
           -81.6943605
          ],
          [
           "Dallas Mavericks",
           32.7766642,
           -96.7969879
          ],
          [
           "Denver Nuggets",
           39.7392358,
           -104.990251
          ],
          [
           "Detroit Pistons",
           42.331427000000005,
           -83.0457538
          ],
          [
           "Golden State Warriors",
           37.8043637,
           -122.27111370000002
          ],
          [
           "Golden State Warriors",
           37.7749295,
           -122.4194155
          ],
          [
           "Houston Rockets",
           29.7604267,
           -95.3698028
          ],
          [
           "Los Angeles Lakers",
           34.0522342,
           -118.24368490000002
          ],
          [
           "Miami Heat",
           25.7616798,
           -80.1917902
          ],
          [
           "Milwaukee Bucks",
           43.0389025,
           -87.9064736
          ],
          [
           "Minneapolis Lakers",
           44.977753,
           -93.2650108
          ],
          [
           "New York Knicks",
           40.7127837,
           -74.00594129999999
          ],
          [
           "Philadelphia 76ers",
           39.9525839,
           -75.1652215
          ],
          [
           "Philadelphia Warriors",
           39.9525839,
           -75.1652215
          ],
          [
           "Portland Trail Blazers",
           45.523062200000005,
           -122.6764816
          ],
          [
           "Rochester Royals",
           43.16103,
           -77.61092190000001
          ],
          [
           "San Antonio Spurs",
           29.4241219,
           -98.4936282
          ],
          [
           "Seattle SuperSonics",
           47.6062095,
           -122.33207079999998
          ],
          [
           "St. Louis Hawks",
           38.6270025,
           -90.1994042
          ],
          [
           "Syracuse Nationals",
           43.0481221,
           -76.1474244
          ],
          [
           "Toronto Raptors",
           null,
           null
          ],
          [
           "Washington Bullets",
           38.9071923,
           -77.03687070000001
          ]
         ],
         "geo": "geo",
         "hovertemplate": "<b>%{hovertext}</b><br><br>Total Championship=%{marker.size}<br>Champion=%{customdata[0]}<extra></extra>",
         "hovertext": [
          "Baltimore",
          "Boston",
          "Chicago",
          "Cleveland",
          "Dallas",
          "Denver",
          "Detroit",
          "Oakland",
          "San Francisco",
          "Houston",
          "Los Angeles",
          "Miami",
          "Milwaukee",
          "Minneapolis",
          "New York",
          "Philadelphia",
          "Philadelphia",
          "Portland",
          "Rochester",
          "San Antonio",
          "Seattle",
          "St. Louis",
          "Syracuse",
          "Toronto",
          "Washington DC"
         ],
         "lat": {
          "bdata": "tKBBVCulQ0BTrvAuFy5FQB8WxQZm8ERAjh6/t+m/RECsfIW7aWNAQCaEWEef3kNAdgEvM2wqRUB3y8Rj9eZCQFKazeMw40JAVYH/UqvCPUDKXTqcrwZBQBkGh3L9wjlAx53SwfqERUBvSKMCJ31GQJpPDH88W0RAG5nsRO75Q0AbmexE7vlDQA1jwbPzwkZAYtaLoZyURUBzBLpAk2w9QCOD3EWYzUdAUAEwnkFQQ0CA227dKIZFQAAAAAAAAPh/bdeV4B50Q0A=",
          "dtype": "f8"
         },
         "legendgroup": "",
         "lon": {
          "bdata": "g50HHC4nU8Cn+AmxxMNRwBoFHJ1O6FXAl8gFZ3BsVMCyc4nZATNYwDT1ukVgP1rAvKpYoe3CVMDZv0btWZFewN/7G7TXml7ACP5c2arXV8DdAY2ImI9dwF8sZ0pGDFTA/qvYqQP6VcCOxdvv9VBXwIZMnldhgFLAJsYy/ZLKUsAmxjL9kspSwCEWe3lLq17AQTorWBlnU8CJ2Lual59YwDd94qVAlV7A2GvVCcOMVsB6KMBmbwlTwAAAAAAAAPh/kKvsFlxCU8A=",
          "dtype": "f8"
         },
         "marker": {
          "color": [
           "#E03A3E",
           "#008348",
           "#CE1141",
           "#6F263D",
           "#0053BC",
           "#0E2240",
           "#C8102E",
           "#1D428A",
           "#1D428A",
           "#CE1141",
           "#552583",
           "#98002E",
           "#00471B",
           "#552583",
           "#006BB6",
           "#006BB6",
           "#006BB6",
           "#E03A3E",
           "#006BB6",
           "#C4CED4",
           "#007A33",
           "#E03A3E",
           "#006BB6",
           "#CE1141",
           "#E31837"
          ],
          "line": {
           "color": "white",
           "width": 0.5
          },
          "size": {
           "bdata": "AREGAQECAwQBAgwDAgUCAgIBAQUBAQEBAQ==",
           "dtype": "i1"
          },
          "sizemode": "area",
          "sizeref": 0.0425,
          "symbol": "circle"
         },
         "mode": "markers",
         "name": "",
         "showlegend": false,
         "type": "scattergeo"
        }
       ],
       "layout": {
        "geo": {
         "center": {},
         "domain": {
          "x": [
           0,
           1
          ],
          "y": [
           0,
           1
          ]
         },
         "landcolor": "#D2B48C",
         "projection": {
          "type": "albers usa"
         },
         "scope": "usa",
         "showland": true
        },
        "legend": {
         "itemsizing": "constant",
         "tracegroupgap": 0
        },
        "template": {
         "data": {
          "bar": [
           {
            "error_x": {
             "color": "#2a3f5f"
            },
            "error_y": {
             "color": "#2a3f5f"
            },
            "marker": {
             "line": {
              "color": "#E5ECF6",
              "width": 0.5
             },
             "pattern": {
              "fillmode": "overlay",
              "size": 10,
              "solidity": 0.2
             }
            },
            "type": "bar"
           }
          ],
          "barpolar": [
           {
            "marker": {
             "line": {
              "color": "#E5ECF6",
              "width": 0.5
             },
             "pattern": {
              "fillmode": "overlay",
              "size": 10,
              "solidity": 0.2
             }
            },
            "type": "barpolar"
           }
          ],
          "carpet": [
           {
            "aaxis": {
             "endlinecolor": "#2a3f5f",
             "gridcolor": "white",
             "linecolor": "white",
             "minorgridcolor": "white",
             "startlinecolor": "#2a3f5f"
            },
            "baxis": {
             "endlinecolor": "#2a3f5f",
             "gridcolor": "white",
             "linecolor": "white",
             "minorgridcolor": "white",
             "startlinecolor": "#2a3f5f"
            },
            "type": "carpet"
           }
          ],
          "choropleth": [
           {
            "colorbar": {
             "outlinewidth": 0,
             "ticks": ""
            },
            "type": "choropleth"
           }
          ],
          "contour": [
           {
            "colorbar": {
             "outlinewidth": 0,
             "ticks": ""
            },
            "colorscale": [
             [
              0,
              "#0d0887"
             ],
             [
              0.1111111111111111,
              "#46039f"
             ],
             [
              0.2222222222222222,
              "#7201a8"
             ],
             [
              0.3333333333333333,
              "#9c179e"
             ],
             [
              0.4444444444444444,
              "#bd3786"
             ],
             [
              0.5555555555555556,
              "#d8576b"
             ],
             [
              0.6666666666666666,
              "#ed7953"
             ],
             [
              0.7777777777777778,
              "#fb9f3a"
             ],
             [
              0.8888888888888888,
              "#fdca26"
             ],
             [
              1,
              "#f0f921"
             ]
            ],
            "type": "contour"
           }
          ],
          "contourcarpet": [
           {
            "colorbar": {
             "outlinewidth": 0,
             "ticks": ""
            },
            "type": "contourcarpet"
           }
          ],
          "heatmap": [
           {
            "colorbar": {
             "outlinewidth": 0,
             "ticks": ""
            },
            "colorscale": [
             [
              0,
              "#0d0887"
             ],
             [
              0.1111111111111111,
              "#46039f"
             ],
             [
              0.2222222222222222,
              "#7201a8"
             ],
             [
              0.3333333333333333,
              "#9c179e"
             ],
             [
              0.4444444444444444,
              "#bd3786"
             ],
             [
              0.5555555555555556,
              "#d8576b"
             ],
             [
              0.6666666666666666,
              "#ed7953"
             ],
             [
              0.7777777777777778,
              "#fb9f3a"
             ],
             [
              0.8888888888888888,
              "#fdca26"
             ],
             [
              1,
              "#f0f921"
             ]
            ],
            "type": "heatmap"
           }
          ],
          "histogram": [
           {
            "marker": {
             "pattern": {
              "fillmode": "overlay",
              "size": 10,
              "solidity": 0.2
             }
            },
            "type": "histogram"
           }
          ],
          "histogram2d": [
           {
            "colorbar": {
             "outlinewidth": 0,
             "ticks": ""
            },
            "colorscale": [
             [
              0,
              "#0d0887"
             ],
             [
              0.1111111111111111,
              "#46039f"
             ],
             [
              0.2222222222222222,
              "#7201a8"
             ],
             [
              0.3333333333333333,
              "#9c179e"
             ],
             [
              0.4444444444444444,
              "#bd3786"
             ],
             [
              0.5555555555555556,
              "#d8576b"
             ],
             [
              0.6666666666666666,
              "#ed7953"
             ],
             [
              0.7777777777777778,
              "#fb9f3a"
             ],
             [
              0.8888888888888888,
              "#fdca26"
             ],
             [
              1,
              "#f0f921"
             ]
            ],
            "type": "histogram2d"
           }
          ],
          "histogram2dcontour": [
           {
            "colorbar": {
             "outlinewidth": 0,
             "ticks": ""
            },
            "colorscale": [
             [
              0,
              "#0d0887"
             ],
             [
              0.1111111111111111,
              "#46039f"
             ],
             [
              0.2222222222222222,
              "#7201a8"
             ],
             [
              0.3333333333333333,
              "#9c179e"
             ],
             [
              0.4444444444444444,
              "#bd3786"
             ],
             [
              0.5555555555555556,
              "#d8576b"
             ],
             [
              0.6666666666666666,
              "#ed7953"
             ],
             [
              0.7777777777777778,
              "#fb9f3a"
             ],
             [
              0.8888888888888888,
              "#fdca26"
             ],
             [
              1,
              "#f0f921"
             ]
            ],
            "type": "histogram2dcontour"
           }
          ],
          "mesh3d": [
           {
            "colorbar": {
             "outlinewidth": 0,
             "ticks": ""
            },
            "type": "mesh3d"
           }
          ],
          "parcoords": [
           {
            "line": {
             "colorbar": {
              "outlinewidth": 0,
              "ticks": ""
             }
            },
            "type": "parcoords"
           }
          ],
          "pie": [
           {
            "automargin": true,
            "type": "pie"
           }
          ],
          "scatter": [
           {
            "fillpattern": {
             "fillmode": "overlay",
             "size": 10,
             "solidity": 0.2
            },
            "type": "scatter"
           }
          ],
          "scatter3d": [
           {
            "line": {
             "colorbar": {
              "outlinewidth": 0,
              "ticks": ""
             }
            },
            "marker": {
             "colorbar": {
              "outlinewidth": 0,
              "ticks": ""
             }
            },
            "type": "scatter3d"
           }
          ],
          "scattercarpet": [
           {
            "marker": {
             "colorbar": {
              "outlinewidth": 0,
              "ticks": ""
             }
            },
            "type": "scattercarpet"
           }
          ],
          "scattergeo": [
           {
            "marker": {
             "colorbar": {
              "outlinewidth": 0,
              "ticks": ""
             }
            },
            "type": "scattergeo"
           }
          ],
          "scattergl": [
           {
            "marker": {
             "colorbar": {
              "outlinewidth": 0,
              "ticks": ""
             }
            },
            "type": "scattergl"
           }
          ],
          "scattermap": [
           {
            "marker": {
             "colorbar": {
              "outlinewidth": 0,
              "ticks": ""
             }
            },
            "type": "scattermap"
           }
          ],
          "scattermapbox": [
           {
            "marker": {
             "colorbar": {
              "outlinewidth": 0,
              "ticks": ""
             }
            },
            "type": "scattermapbox"
           }
          ],
          "scatterpolar": [
           {
            "marker": {
             "colorbar": {
              "outlinewidth": 0,
              "ticks": ""
             }
            },
            "type": "scatterpolar"
           }
          ],
          "scatterpolargl": [
           {
            "marker": {
             "colorbar": {
              "outlinewidth": 0,
              "ticks": ""
             }
            },
            "type": "scatterpolargl"
           }
          ],
          "scatterternary": [
           {
            "marker": {
             "colorbar": {
              "outlinewidth": 0,
              "ticks": ""
             }
            },
            "type": "scatterternary"
           }
          ],
          "surface": [
           {
            "colorbar": {
             "outlinewidth": 0,
             "ticks": ""
            },
            "colorscale": [
             [
              0,
              "#0d0887"
             ],
             [
              0.1111111111111111,
              "#46039f"
             ],
             [
              0.2222222222222222,
              "#7201a8"
             ],
             [
              0.3333333333333333,
              "#9c179e"
             ],
             [
              0.4444444444444444,
              "#bd3786"
             ],
             [
              0.5555555555555556,
              "#d8576b"
             ],
             [
              0.6666666666666666,
              "#ed7953"
             ],
             [
              0.7777777777777778,
              "#fb9f3a"
             ],
             [
              0.8888888888888888,
              "#fdca26"
             ],
             [
              1,
              "#f0f921"
             ]
            ],
            "type": "surface"
           }
          ],
          "table": [
           {
            "cells": {
             "fill": {
              "color": "#EBF0F8"
             },
             "line": {
              "color": "white"
             }
            },
            "header": {
             "fill": {
              "color": "#C8D4E3"
             },
             "line": {
              "color": "white"
             }
            },
            "type": "table"
           }
          ]
         },
         "layout": {
          "annotationdefaults": {
           "arrowcolor": "#2a3f5f",
           "arrowhead": 0,
           "arrowwidth": 1
          },
          "autotypenumbers": "strict",
          "coloraxis": {
           "colorbar": {
            "outlinewidth": 0,
            "ticks": ""
           }
          },
          "colorscale": {
           "diverging": [
            [
             0,
             "#8e0152"
            ],
            [
             0.1,
             "#c51b7d"
            ],
            [
             0.2,
             "#de77ae"
            ],
            [
             0.3,
             "#f1b6da"
            ],
            [
             0.4,
             "#fde0ef"
            ],
            [
             0.5,
             "#f7f7f7"
            ],
            [
             0.6,
             "#e6f5d0"
            ],
            [
             0.7,
             "#b8e186"
            ],
            [
             0.8,
             "#7fbc41"
            ],
            [
             0.9,
             "#4d9221"
            ],
            [
             1,
             "#276419"
            ]
           ],
           "sequential": [
            [
             0,
             "#0d0887"
            ],
            [
             0.1111111111111111,
             "#46039f"
            ],
            [
             0.2222222222222222,
             "#7201a8"
            ],
            [
             0.3333333333333333,
             "#9c179e"
            ],
            [
             0.4444444444444444,
             "#bd3786"
            ],
            [
             0.5555555555555556,
             "#d8576b"
            ],
            [
             0.6666666666666666,
             "#ed7953"
            ],
            [
             0.7777777777777778,
             "#fb9f3a"
            ],
            [
             0.8888888888888888,
             "#fdca26"
            ],
            [
             1,
             "#f0f921"
            ]
           ],
           "sequentialminus": [
            [
             0,
             "#0d0887"
            ],
            [
             0.1111111111111111,
             "#46039f"
            ],
            [
             0.2222222222222222,
             "#7201a8"
            ],
            [
             0.3333333333333333,
             "#9c179e"
            ],
            [
             0.4444444444444444,
             "#bd3786"
            ],
            [
             0.5555555555555556,
             "#d8576b"
            ],
            [
             0.6666666666666666,
             "#ed7953"
            ],
            [
             0.7777777777777778,
             "#fb9f3a"
            ],
            [
             0.8888888888888888,
             "#fdca26"
            ],
            [
             1,
             "#f0f921"
            ]
           ]
          },
          "colorway": [
           "#636efa",
           "#EF553B",
           "#00cc96",
           "#ab63fa",
           "#FFA15A",
           "#19d3f3",
           "#FF6692",
           "#B6E880",
           "#FF97FF",
           "#FECB52"
          ],
          "font": {
           "color": "#2a3f5f"
          },
          "geo": {
           "bgcolor": "white",
           "lakecolor": "white",
           "landcolor": "#E5ECF6",
           "showlakes": true,
           "showland": true,
           "subunitcolor": "white"
          },
          "hoverlabel": {
           "align": "left"
          },
          "hovermode": "closest",
          "mapbox": {
           "style": "light"
          },
          "paper_bgcolor": "white",
          "plot_bgcolor": "#E5ECF6",
          "polar": {
           "angularaxis": {
            "gridcolor": "white",
            "linecolor": "white",
            "ticks": ""
           },
           "bgcolor": "#E5ECF6",
           "radialaxis": {
            "gridcolor": "white",
            "linecolor": "white",
            "ticks": ""
           }
          },
          "scene": {
           "xaxis": {
            "backgroundcolor": "#E5ECF6",
            "gridcolor": "white",
            "gridwidth": 2,
            "linecolor": "white",
            "showbackground": true,
            "ticks": "",
            "zerolinecolor": "white"
           },
           "yaxis": {
            "backgroundcolor": "#E5ECF6",
            "gridcolor": "white",
            "gridwidth": 2,
            "linecolor": "white",
            "showbackground": true,
            "ticks": "",
            "zerolinecolor": "white"
           },
           "zaxis": {
            "backgroundcolor": "#E5ECF6",
            "gridcolor": "white",
            "gridwidth": 2,
            "linecolor": "white",
            "showbackground": true,
            "ticks": "",
            "zerolinecolor": "white"
           }
          },
          "shapedefaults": {
           "line": {
            "color": "#2a3f5f"
           }
          },
          "ternary": {
           "aaxis": {
            "gridcolor": "white",
            "linecolor": "white",
            "ticks": ""
           },
           "baxis": {
            "gridcolor": "white",
            "linecolor": "white",
            "ticks": ""
           },
           "bgcolor": "#E5ECF6",
           "caxis": {
            "gridcolor": "white",
            "linecolor": "white",
            "ticks": ""
           }
          },
          "title": {
           "x": 0.05
          },
          "xaxis": {
           "automargin": true,
           "gridcolor": "white",
           "linecolor": "white",
           "ticks": "",
           "title": {
            "standoff": 15
           },
           "zerolinecolor": "white",
           "zerolinewidth": 2
          },
          "yaxis": {
           "automargin": true,
           "gridcolor": "white",
           "linecolor": "white",
           "ticks": "",
           "title": {
            "standoff": 15
           },
           "zerolinecolor": "white",
           "zerolinewidth": 2
          }
         }
        },
        "title": {
         "text": "NBA Championship-Winning Teams by City"
        }
       }
      }
     },
     "metadata": {},
     "output_type": "display_data"
    }
   ],
   "source": [
    "import plotly.express as px\n",
    "import pandas as pd\n",
    "from geopy.geocoders import Nominatim\n",
    "from geopy.extra.rate_limiter import RateLimiter\n",
    "\n",
    "data = pd.read_csv(\"https://raw.githubusercontent.com/khemkandel/research-public/refs/heads/main/nbachamps.csv\")\n",
    "us_cities = pd.read_csv(\"https://raw.githubusercontent.com/plotly/datasets/master/us-cities-top-1k.csv\")\n",
    "us_cities.loc[us_cities['City'] == 'Washington', 'City'] = 'Washington DC'\n",
    "\n",
    "\n",
    "champs_by_city = data.groupby(['Champion','City','StateFull','PrimaryColor']).size().reset_index(name='Total Championship')\n",
    "champs_by_city.loc[champs_by_city['Champion'] == 'Detroit Pistons', 'City'] = 'Detroit'\n",
    "\n",
    "# print(champs_by_city[:10])\n",
    "# print(us_cities[:5000])\n",
    "\n",
    "merged_df = pd.merge(champs_by_city, us_cities, left_on=['City', 'StateFull'],right_on=['City','State'], how='left')\n",
    "\n",
    "\n",
    "# print(merged_df[:10])\n",
    "# print(merged_df[merged_df.isna().any(axis=1)])\n",
    "\n",
    "# merged_df[merged_df['City'].str.contains('DC', case=False, na=False)]\n",
    "# us_cities[us_cities['City'].str.contains('ashing', case=False, na=False)]\n",
    "\n",
    "\n",
    "# Create the map\n",
    "fig = px.scatter_geo(\n",
    "    merged_df,\n",
    "    lat=\"lat\",\n",
    "    lon=\"lon\",\n",
    "    #text=\"Champion\",\n",
    "    hover_name=\"City\",\n",
    "    hover_data={'Champion': True,\n",
    "                 'lat':False,\n",
    "                 'lon':False},\n",
    "    size=\"Total Championship\",  # Optional: size dots by championships\n",
    "    projection=\"albers usa\",\n",
    "    scope=\"usa\",\n",
    "    title=\"NBA Championship-Winning Teams by City\"\n",
    ")\n",
    "\n",
    "# Style tweaks\n",
    "fig.update_traces(marker=dict(line=dict(width=0.5, color='white')))\n",
    "fig.update_layout(geo=dict(showland=True, landcolor=\"#D2B48C\"))\n",
    "\n",
    "# Assign marker colors directly using the hex codes\n",
    "fig.update_traces(marker=dict(color=merged_df['PrimaryColor']))\n",
    "\n",
    "fig.show()\n"
   ]
  },
  {
   "cell_type": "code",
   "execution_count": 98,
   "metadata": {},
   "outputs": [
    {
     "data": {
      "application/vnd.plotly.v1+json": {
       "config": {
        "plotlyServerURL": "https://plot.ly"
       },
       "data": [
        {
         "hovertemplate": "date=%{x}<br>Price=%{y}<extra></extra>",
         "legendgroup": "",
         "line": {
          "color": "#636efa",
          "dash": "solid"
         },
         "marker": {
          "symbol": "circle"
         },
         "mode": "lines+markers",
         "name": "",
         "showlegend": false,
         "type": "scattergl",
         "x": [
          "4/11/2012",
          "4/12/2012",
          "4/13/2012",
          "4/16/2012",
          "4/17/2012",
          "4/18/2012",
          "4/19/2012",
          "4/20/2012",
          "4/23/2012",
          "4/24/2012",
          "4/25/2012",
          "4/26/2012",
          "4/27/2012",
          "4/30/2012",
          "5/1/2012",
          "5/2/2012",
          "5/3/2012",
          "5/4/2012",
          "5/7/2012",
          "5/8/2012",
          "5/9/2012",
          "5/10/2012",
          "5/11/2012",
          "5/14/2012",
          "5/15/2012",
          "5/16/2012",
          "5/17/2012",
          "5/18/2012",
          "5/21/2012",
          "5/22/2012",
          "5/23/2012",
          "5/24/2012",
          "5/25/2012",
          "5/29/2012",
          "5/30/2012",
          "5/31/2012",
          "6/1/2012",
          "6/4/2012",
          "6/5/2012",
          "6/6/2012",
          "6/7/2012",
          "6/8/2012",
          "6/11/2012",
          "6/12/2012",
          "6/13/2012",
          "6/14/2012",
          "6/15/2012",
          "6/18/2012",
          "6/19/2012",
          "6/20/2012",
          "6/21/2012",
          "6/22/2012",
          "6/25/2012",
          "6/26/2012",
          "6/27/2012",
          "6/28/2012",
          "6/29/2012",
          "7/2/2012",
          "7/3/2012",
          "7/5/2012",
          "7/6/2012",
          "7/9/2012",
          "7/10/2012",
          "7/11/2012",
          "7/12/2012",
          "7/13/2012",
          "7/16/2012",
          "7/17/2012",
          "7/18/2012",
          "7/19/2012",
          "7/20/2012",
          "7/23/2012",
          "7/24/2012",
          "7/25/2012",
          "7/26/2012",
          "7/27/2012",
          "7/30/2012",
          "7/31/2012",
          "8/1/2012",
          "8/2/2012",
          "8/3/2012",
          "8/6/2012",
          "8/7/2012",
          "8/8/2012",
          "8/9/2012",
          "8/10/2012",
          "8/13/2012",
          "8/14/2012",
          "8/15/2012",
          "8/16/2012",
          "8/17/2012",
          "8/20/2012",
          "8/21/2012",
          "8/22/2012",
          "8/23/2012",
          "8/24/2012",
          "8/27/2012",
          "8/28/2012",
          "8/29/2012",
          "8/30/2012",
          "8/31/2012",
          "9/4/2012",
          "9/5/2012",
          "9/6/2012",
          "9/7/2012",
          "9/10/2012",
          "9/11/2012",
          "9/12/2012",
          "9/13/2012",
          "9/14/2012",
          "9/17/2012",
          "9/18/2012",
          "9/19/2012",
          "9/20/2012",
          "9/21/2012",
          "9/24/2012",
          "9/25/2012",
          "9/26/2012",
          "9/27/2012",
          "9/28/2012",
          "10/1/2012",
          "10/2/2012",
          "10/3/2012",
          "10/4/2012",
          "10/5/2012",
          "10/8/2012",
          "10/9/2012",
          "10/10/2012",
          "10/11/2012",
          "10/12/2012",
          "10/15/2012",
          "10/16/2012",
          "10/17/2012",
          "10/18/2012",
          "10/19/2012",
          "10/22/2012",
          "10/23/2012",
          "10/24/2012",
          "10/25/2012",
          "10/26/2012",
          "10/29/2012",
          "10/30/2012",
          "10/31/2012",
          "11/1/2012",
          "11/2/2012",
          "11/5/2012",
          "11/6/2012",
          "11/7/2012",
          "11/8/2012",
          "11/9/2012",
          "11/12/2012",
          "11/13/2012",
          "11/14/2012",
          "11/15/2012",
          "11/16/2012",
          "11/19/2012",
          "11/20/2012",
          "11/21/2012",
          "11/23/2012",
          "11/26/2012",
          "11/27/2012",
          "11/28/2012",
          "11/29/2012",
          "11/30/2012",
          "12/3/2012",
          "12/4/2012",
          "12/5/2012",
          "12/6/2012",
          "12/7/2012",
          "12/10/2012",
          "12/11/2012",
          "12/12/2012",
          "12/13/2012",
          "12/14/2012",
          "12/17/2012",
          "12/18/2012",
          "12/19/2012",
          "12/20/2012",
          "12/21/2012",
          "12/24/2012",
          "12/26/2012",
          "12/27/2012",
          "12/28/2012",
          "12/31/2012",
          "1/2/2013",
          "1/3/2013",
          "1/4/2013",
          "1/7/2013",
          "1/8/2013",
          "1/9/2013",
          "1/10/2013",
          "1/11/2013",
          "1/14/2013",
          "1/15/2013",
          "1/16/2013",
          "1/17/2013",
          "1/18/2013",
          "1/22/2013",
          "1/23/2013",
          "1/24/2013",
          "1/25/2013",
          "1/28/2013",
          "1/29/2013",
          "1/30/2013",
          "1/31/2013",
          "2/1/2013",
          "2/4/2013",
          "2/5/2013",
          "2/6/2013",
          "2/7/2013",
          "2/8/2013",
          "2/11/2013",
          "2/12/2013",
          "2/13/2013",
          "2/14/2013",
          "2/15/2013",
          "2/19/2013",
          "2/20/2013",
          "2/21/2013",
          "2/22/2013",
          "2/25/2013",
          "2/26/2013",
          "2/27/2013",
          "2/28/2013",
          "3/1/2013",
          "3/4/2013",
          "3/5/2013",
          "3/6/2013",
          "3/7/2013",
          "3/8/2013",
          "3/11/2013",
          "3/12/2013",
          "3/13/2013",
          "3/14/2013",
          "3/15/2013",
          "3/18/2013",
          "3/19/2013",
          "3/20/2013",
          "3/21/2013",
          "3/22/2013",
          "3/25/2013",
          "3/26/2013",
          "3/27/2013",
          "3/28/2013",
          "4/1/2013",
          "4/2/2013",
          "4/3/2013",
          "4/4/2013",
          "4/5/2013",
          "4/8/2013",
          "4/9/2013",
          "4/10/2013",
          "4/11/2013",
          "4/12/2013",
          "4/15/2013",
          "4/16/2013",
          "4/17/2013",
          "4/18/2013",
          "4/19/2013",
          "4/22/2013",
          "4/23/2013",
          "4/24/2013",
          "4/25/2013",
          "4/26/2013",
          "4/29/2013",
          "4/30/2013",
          "5/1/2013",
          "5/2/2013",
          "5/3/2013",
          "5/6/2013",
          "5/7/2013",
          "5/8/2013",
          "5/9/2013",
          "5/10/2013",
          "5/13/2013",
          "5/14/2013",
          "5/15/2013",
          "5/16/2013",
          "5/17/2013",
          "5/20/2013",
          "5/21/2013",
          "5/22/2013",
          "5/23/2013",
          "5/24/2013",
          "5/28/2013",
          "5/29/2013",
          "5/30/2013",
          "5/31/2013",
          "6/3/2013",
          "6/4/2013",
          "6/5/2013",
          "6/6/2013",
          "6/7/2013",
          "6/10/2013",
          "6/11/2013",
          "6/12/2013",
          "6/13/2013",
          "6/14/2013",
          "6/17/2013",
          "6/18/2013",
          "6/19/2013",
          "6/20/2013",
          "6/21/2013",
          "6/24/2013",
          "6/25/2013",
          "6/26/2013",
          "6/27/2013",
          "6/28/2013",
          "7/1/2013",
          "7/2/2013",
          "7/3/2013",
          "7/5/2013",
          "7/8/2013",
          "7/9/2013",
          "7/10/2013",
          "7/11/2013",
          "7/12/2013",
          "7/15/2013",
          "7/16/2013",
          "7/17/2013",
          "7/18/2013",
          "7/19/2013",
          "7/22/2013",
          "7/23/2013",
          "7/24/2013",
          "7/25/2013",
          "7/26/2013",
          "7/29/2013",
          "7/30/2013",
          "7/31/2013",
          "8/1/2013",
          "8/2/2013",
          "8/5/2013",
          "8/6/2013",
          "8/7/2013",
          "8/8/2013",
          "8/9/2013",
          "8/12/2013",
          "8/13/2013",
          "8/14/2013",
          "8/15/2013",
          "8/16/2013",
          "8/19/2013",
          "8/20/2013",
          "8/21/2013",
          "8/22/2013",
          "8/23/2013",
          "8/26/2013",
          "8/27/2013",
          "8/28/2013",
          "8/29/2013",
          "8/30/2013",
          "9/3/2013",
          "9/4/2013",
          "9/5/2013",
          "9/6/2013",
          "9/9/2013",
          "9/10/2013",
          "9/11/2013",
          "9/12/2013",
          "9/13/2013",
          "9/16/2013",
          "9/17/2013",
          "9/18/2013",
          "9/19/2013",
          "9/20/2013",
          "9/23/2013",
          "9/24/2013",
          "9/25/2013",
          "9/26/2013",
          "9/27/2013",
          "9/30/2013",
          "10/1/2013",
          "10/2/2013",
          "10/3/2013",
          "10/4/2013",
          "10/7/2013",
          "10/8/2013",
          "10/9/2013",
          "10/10/2013",
          "10/11/2013",
          "10/14/2013",
          "10/15/2013",
          "10/16/2013",
          "10/17/2013",
          "10/18/2013",
          "10/21/2013",
          "10/22/2013",
          "10/23/2013",
          "10/24/2013",
          "10/25/2013",
          "10/28/2013",
          "10/29/2013",
          "10/30/2013",
          "10/31/2013",
          "11/1/2013",
          "11/4/2013",
          "11/5/2013",
          "11/6/2013",
          "11/7/2013",
          "11/8/2013",
          "11/11/2013",
          "11/12/2013",
          "11/13/2013",
          "11/14/2013",
          "11/15/2013",
          "11/18/2013",
          "11/19/2013",
          "11/20/2013",
          "11/21/2013",
          "11/22/2013",
          "11/25/2013",
          "11/26/2013",
          "11/27/2013",
          "11/29/2013",
          "12/2/2013",
          "12/3/2013",
          "12/4/2013",
          "12/5/2013",
          "12/6/2013",
          "12/9/2013",
          "12/10/2013",
          "12/11/2013",
          "12/12/2013",
          "12/13/2013",
          "12/16/2013",
          "12/17/2013",
          "12/18/2013",
          "12/19/2013",
          "12/20/2013",
          "12/23/2013",
          "12/24/2013",
          "12/26/2013",
          "12/27/2013",
          "12/30/2013",
          "12/31/2013",
          "1/2/2014",
          "1/3/2014",
          "1/6/2014",
          "1/7/2014",
          "1/8/2014",
          "1/9/2014",
          "1/10/2014",
          "1/13/2014",
          "1/14/2014",
          "1/15/2014",
          "1/16/2014",
          "1/17/2014",
          "1/21/2014",
          "1/22/2014",
          "1/23/2014",
          "1/24/2014",
          "1/27/2014",
          "1/28/2014",
          "1/29/2014",
          "1/30/2014",
          "1/31/2014",
          "2/3/2014",
          "2/4/2014",
          "2/5/2014",
          "2/6/2014",
          "2/7/2014",
          "2/10/2014",
          "2/11/2014",
          "2/12/2014",
          "2/13/2014",
          "2/14/2014",
          "2/18/2014",
          "2/19/2014",
          "2/20/2014",
          "2/21/2014",
          "2/24/2014",
          "2/25/2014",
          "2/26/2014",
          "2/27/2014",
          "2/28/2014",
          "3/3/2014",
          "3/4/2014",
          "3/5/2014",
          "3/6/2014",
          "3/7/2014",
          "3/10/2014",
          "3/11/2014",
          "3/12/2014",
          "3/13/2014",
          "3/14/2014",
          "3/17/2014",
          "3/18/2014",
          "3/19/2014",
          "3/20/2014",
          "3/21/2014",
          "3/24/2014",
          "3/25/2014",
          "3/26/2014",
          "3/27/2014",
          "3/28/2014",
          "3/31/2014",
          "4/1/2014",
          "4/2/2014",
          "4/3/2014",
          "4/4/2014",
          "4/7/2014",
          "4/8/2014",
          "4/9/2014",
          "4/10/2014",
          "4/11/2014",
          "4/14/2014",
          "4/15/2014",
          "4/16/2014",
          "4/17/2014",
          "4/21/2014",
          "4/22/2014",
          "4/23/2014",
          "4/24/2014",
          "4/25/2014",
          "4/28/2014",
          "4/29/2014",
          "4/30/2014",
          "5/1/2014",
          "5/2/2014",
          "5/5/2014",
          "5/6/2014",
          "5/7/2014",
          "5/8/2014",
          "5/9/2014",
          "5/12/2014",
          "5/13/2014",
          "5/14/2014",
          "5/15/2014",
          "5/16/2014",
          "5/19/2014",
          "5/20/2014",
          "5/21/2014",
          "5/22/2014",
          "5/23/2014",
          "5/27/2014",
          "5/28/2014",
          "5/29/2014",
          "5/30/2014",
          "6/2/2014",
          "6/3/2014",
          "6/4/2014",
          "6/5/2014",
          "6/6/2014",
          "6/9/2014",
          "6/10/2014",
          "6/11/2014",
          "6/12/2014",
          "6/13/2014",
          "6/16/2014",
          "6/17/2014",
          "6/18/2014",
          "6/19/2014",
          "6/20/2014",
          "6/23/2014",
          "6/24/2014",
          "6/25/2014",
          "6/26/2014",
          "6/27/2014",
          "6/30/2014",
          "7/1/2014",
          "7/2/2014",
          "7/3/2014",
          "7/7/2014",
          "7/8/2014",
          "7/9/2014",
          "7/10/2014",
          "7/11/2014",
          "7/14/2014",
          "7/15/2014",
          "7/16/2014",
          "7/17/2014",
          "7/18/2014",
          "7/21/2014",
          "7/22/2014",
          "7/23/2014",
          "7/24/2014",
          "7/25/2014",
          "7/28/2014",
          "7/29/2014",
          "7/30/2014",
          "7/31/2014",
          "8/1/2014",
          "8/4/2014",
          "8/5/2014",
          "8/6/2014",
          "8/7/2014",
          "8/8/2014",
          "8/11/2014",
          "8/12/2014",
          "8/13/2014",
          "8/14/2014",
          "8/15/2014",
          "8/18/2014",
          "8/19/2014",
          "8/20/2014",
          "8/21/2014",
          "8/22/2014",
          "8/25/2014",
          "8/26/2014",
          "8/27/2014",
          "8/28/2014",
          "8/29/2014",
          "9/2/2014",
          "9/3/2014",
          "9/4/2014",
          "9/5/2014",
          "9/8/2014",
          "9/9/2014",
          "9/10/2014",
          "9/11/2014",
          "9/12/2014",
          "9/15/2014",
          "9/16/2014",
          "9/17/2014",
          "9/18/2014",
          "9/19/2014",
          "9/22/2014",
          "9/23/2014",
          "9/24/2014",
          "9/25/2014",
          "9/26/2014",
          "9/29/2014",
          "9/30/2014",
          "10/1/2014",
          "10/2/2014",
          "10/3/2014",
          "10/6/2014",
          "10/7/2014",
          "10/8/2014",
          "10/9/2014",
          "10/10/2014",
          "10/13/2014",
          "10/14/2014",
          "10/15/2014",
          "10/16/2014",
          "10/17/2014",
          "10/20/2014",
          "10/21/2014",
          "10/22/2014",
          "10/23/2014",
          "10/24/2014",
          "10/27/2014",
          "10/28/2014",
          "10/29/2014",
          "10/30/2014",
          "10/31/2014",
          "11/3/2014",
          "11/4/2014",
          "11/5/2014",
          "11/6/2014",
          "11/7/2014",
          "11/10/2014",
          "11/11/2014",
          "11/12/2014",
          "11/13/2014",
          "11/14/2014",
          "11/17/2014",
          "11/18/2014",
          "11/19/2014",
          "11/20/2014",
          "11/21/2014",
          "11/24/2014",
          "11/25/2014",
          "11/26/2014",
          "11/28/2014",
          "12/1/2014",
          "12/2/2014",
          "12/3/2014",
          "12/4/2014",
          "12/5/2014",
          "12/8/2014",
          "12/9/2014",
          "12/10/2014",
          "12/11/2014",
          "12/12/2014",
          "12/15/2014",
          "12/16/2014",
          "12/17/2014",
          "12/18/2014",
          "12/19/2014",
          "12/22/2014",
          "12/23/2014",
          "12/24/2014",
          "12/26/2014",
          "12/29/2014",
          "12/30/2014",
          "12/31/2014",
          "1/2/2015",
          "1/5/2015",
          "1/6/2015",
          "1/7/2015",
          "1/8/2015",
          "1/9/2015",
          "1/12/2015",
          "1/13/2015",
          "1/14/2015",
          "1/15/2015",
          "1/16/2015",
          "1/20/2015",
          "1/21/2015",
          "1/22/2015",
          "1/23/2015",
          "1/26/2015",
          "1/27/2015",
          "1/28/2015",
          "1/29/2015",
          "1/30/2015",
          "2/2/2015",
          "2/3/2015",
          "2/4/2015",
          "2/5/2015",
          "2/6/2015",
          "2/9/2015",
          "2/10/2015",
          "2/11/2015",
          "2/12/2015",
          "2/13/2015",
          "2/17/2015",
          "2/18/2015",
          "2/19/2015",
          "2/20/2015",
          "2/23/2015",
          "2/24/2015",
          "2/25/2015",
          "2/26/2015",
          "2/27/2015",
          "3/2/2015",
          "3/3/2015",
          "3/4/2015",
          "3/5/2015",
          "3/6/2015",
          "3/9/2015",
          "3/10/2015",
          "3/11/2015",
          "3/12/2015",
          "3/13/2015",
          "3/16/2015",
          "3/17/2015",
          "3/18/2015",
          "3/19/2015",
          "3/20/2015",
          "3/23/2015",
          "3/24/2015",
          "3/25/2015",
          "3/26/2015",
          "3/27/2015",
          "3/30/2015",
          "3/31/2015",
          "4/1/2015",
          "4/2/2015",
          "4/6/2015",
          "4/7/2015",
          "4/8/2015",
          "4/9/2015",
          "4/10/2015",
          "4/13/2015",
          "4/14/2015",
          "4/15/2015",
          "4/16/2015",
          "4/17/2015",
          "4/20/2015",
          "4/21/2015",
          "4/22/2015",
          "4/23/2015",
          "4/24/2015",
          "4/27/2015",
          "4/28/2015",
          "4/29/2015",
          "4/30/2015",
          "5/1/2015",
          "5/4/2015",
          "5/5/2015",
          "5/6/2015",
          "5/7/2015",
          "5/8/2015",
          "5/11/2015",
          "5/12/2015",
          "5/13/2015",
          "5/14/2015",
          "5/15/2015",
          "5/18/2015",
          "5/19/2015",
          "5/20/2015",
          "5/21/2015",
          "5/22/2015",
          "5/26/2015",
          "5/27/2015",
          "5/28/2015",
          "5/29/2015",
          "6/1/2015",
          "6/2/2015",
          "6/3/2015",
          "6/4/2015",
          "6/5/2015",
          "6/8/2015",
          "6/9/2015",
          "6/10/2015",
          "6/11/2015",
          "6/12/2015",
          "6/15/2015",
          "6/16/2015",
          "6/17/2015",
          "6/18/2015",
          "6/19/2015",
          "6/22/2015",
          "6/23/2015",
          "6/24/2015",
          "6/25/2015",
          "6/26/2015",
          "6/29/2015",
          "6/30/2015",
          "7/1/2015",
          "7/2/2015",
          "7/6/2015",
          "7/7/2015",
          "7/8/2015",
          "7/9/2015",
          "7/10/2015",
          "7/13/2015",
          "7/14/2015",
          "7/15/2015",
          "7/16/2015",
          "7/17/2015",
          "7/20/2015",
          "7/21/2015",
          "7/22/2015",
          "7/23/2015",
          "7/24/2015",
          "7/27/2015",
          "7/28/2015",
          "7/29/2015",
          "7/30/2015",
          "7/31/2015",
          "8/3/2015",
          "8/4/2015",
          "8/5/2015",
          "8/6/2015",
          "8/7/2015",
          "8/10/2015",
          "8/11/2015",
          "8/12/2015",
          "8/13/2015",
          "8/14/2015",
          "8/17/2015",
          "8/18/2015",
          "8/19/2015",
          "8/20/2015",
          "8/21/2015",
          "8/24/2015",
          "8/25/2015",
          "8/26/2015",
          "8/27/2015",
          "8/28/2015",
          "8/31/2015",
          "9/1/2015",
          "9/2/2015",
          "9/3/2015",
          "9/4/2015",
          "9/8/2015",
          "9/9/2015",
          "9/10/2015",
          "9/11/2015",
          "9/14/2015",
          "9/15/2015",
          "9/16/2015",
          "9/17/2015",
          "9/18/2015",
          "9/21/2015",
          "9/22/2015",
          "9/23/2015",
          "9/24/2015",
          "9/25/2015",
          "9/28/2015",
          "9/29/2015",
          "9/30/2015",
          "10/1/2015",
          "10/2/2015",
          "10/5/2015",
          "10/6/2015",
          "10/7/2015",
          "10/8/2015",
          "10/9/2015",
          "10/12/2015",
          "10/13/2015",
          "10/14/2015",
          "10/15/2015",
          "10/16/2015",
          "10/19/2015",
          "10/20/2015",
          "10/21/2015",
          "10/22/2015",
          "10/23/2015",
          "10/26/2015",
          "10/27/2015",
          "10/28/2015",
          "10/29/2015",
          "10/30/2015",
          "11/2/2015",
          "11/3/2015",
          "11/4/2015",
          "11/5/2015",
          "11/6/2015",
          "11/9/2015",
          "11/10/2015",
          "11/11/2015",
          "11/12/2015",
          "11/13/2015",
          "11/16/2015",
          "11/17/2015",
          "11/18/2015",
          "11/19/2015",
          "11/20/2015",
          "11/23/2015",
          "11/24/2015",
          "11/25/2015",
          "11/27/2015",
          "11/30/2015",
          "12/1/2015",
          "12/2/2015",
          "12/3/2015",
          "12/4/2015",
          "12/7/2015",
          "12/8/2015",
          "12/9/2015",
          "12/10/2015",
          "12/11/2015",
          "12/14/2015",
          "12/15/2015",
          "12/16/2015",
          "12/17/2015",
          "12/18/2015",
          "12/21/2015",
          "12/22/2015",
          "12/23/2015",
          "12/24/2015",
          "12/28/2015",
          "12/29/2015",
          "12/30/2015",
          "12/31/2015",
          "1/4/2016",
          "1/5/2016",
          "1/6/2016",
          "1/7/2016",
          "1/8/2016",
          "1/11/2016",
          "1/12/2016",
          "1/13/2016",
          "1/14/2016",
          "1/15/2016",
          "1/19/2016",
          "1/20/2016",
          "1/21/2016",
          "1/22/2016",
          "1/25/2016",
          "1/26/2016",
          "1/27/2016",
          "1/28/2016",
          "1/29/2016",
          "2/1/2016",
          "2/2/2016",
          "2/3/2016",
          "2/4/2016",
          "2/5/2016",
          "2/8/2016",
          "2/9/2016",
          "2/10/2016",
          "2/11/2016",
          "2/12/2016",
          "2/16/2016",
          "2/17/2016",
          "2/18/2016",
          "2/19/2016",
          "2/22/2016",
          "2/23/2016",
          "2/24/2016",
          "2/25/2016",
          "2/26/2016",
          "2/29/2016",
          "3/1/2016",
          "3/2/2016",
          "3/3/2016",
          "3/4/2016",
          "3/7/2016",
          "3/8/2016",
          "3/9/2016",
          "3/10/2016",
          "3/11/2016",
          "3/14/2016",
          "3/15/2016",
          "3/16/2016",
          "3/17/2016",
          "3/18/2016",
          "3/21/2016",
          "3/22/2016",
          "3/23/2016",
          "3/24/2016",
          "3/28/2016",
          "3/29/2016",
          "3/30/2016",
          "3/31/2016",
          "4/1/2016",
          "4/4/2016",
          "4/5/2016",
          "4/6/2016",
          "4/7/2016",
          "4/8/2016",
          "4/11/2016",
          "4/12/2016",
          "4/13/2016",
          "4/14/2016",
          "4/15/2016",
          "4/18/2016",
          "4/19/2016",
          "4/20/2016",
          "4/21/2016",
          "4/22/2016",
          "4/25/2016",
          "4/26/2016",
          "4/27/2016",
          "4/28/2016",
          "4/29/2016",
          "5/2/2016",
          "5/3/2016",
          "5/4/2016",
          "5/5/2016",
          "5/6/2016",
          "5/9/2016",
          "5/10/2016",
          "5/11/2016",
          "5/12/2016",
          "5/13/2016",
          "5/16/2016",
          "5/17/2016",
          "5/18/2016",
          "5/19/2016",
          "5/20/2016",
          "5/23/2016",
          "5/24/2016",
          "5/25/2016",
          "5/26/2016",
          "5/27/2016",
          "5/31/2016",
          "6/1/2016",
          "6/2/2016",
          "6/3/2016",
          "6/6/2016",
          "6/7/2016",
          "6/8/2016",
          "6/9/2016",
          "6/10/2016",
          "6/13/2016",
          "6/14/2016",
          "6/15/2016",
          "6/16/2016",
          "6/17/2016",
          "6/20/2016",
          "6/21/2016",
          "6/22/2016",
          "6/23/2016",
          "6/24/2016",
          "6/27/2016",
          "6/28/2016",
          "6/29/2016",
          "6/30/2016",
          "7/1/2016",
          "7/5/2016",
          "7/6/2016",
          "7/7/2016",
          "7/8/2016",
          "7/11/2016",
          "7/12/2016",
          "7/13/2016",
          "7/14/2016",
          "7/15/2016",
          "7/18/2016",
          "7/19/2016",
          "7/20/2016",
          "7/21/2016",
          "7/22/2016",
          "7/25/2016",
          "7/26/2016",
          "7/27/2016",
          "7/28/2016",
          "7/29/2016",
          "8/1/2016",
          "8/2/2016",
          "8/3/2016",
          "8/4/2016",
          "8/5/2016",
          "8/8/2016",
          "8/9/2016",
          "8/10/2016",
          "8/11/2016",
          "8/12/2016",
          "8/15/2016",
          "8/16/2016",
          "8/17/2016",
          "8/18/2016",
          "8/19/2016",
          "8/22/2016",
          "8/23/2016",
          "8/24/2016",
          "8/25/2016",
          "8/26/2016",
          "8/29/2016",
          "8/30/2016",
          "8/31/2016",
          "9/1/2016",
          "9/2/2016",
          "9/6/2016",
          "9/7/2016",
          "9/8/2016",
          "9/9/2016",
          "9/12/2016",
          "9/13/2016",
          "9/14/2016",
          "9/15/2016",
          "9/16/2016",
          "9/19/2016",
          "9/20/2016",
          "9/21/2016",
          "9/22/2016",
          "9/23/2016",
          "9/26/2016",
          "9/27/2016",
          "9/28/2016",
          "9/29/2016",
          "9/30/2016",
          "10/3/2016",
          "10/4/2016",
          "10/5/2016",
          "10/6/2016",
          "10/7/2016",
          "10/10/2016",
          "10/11/2016",
          "10/12/2016",
          "10/13/2016",
          "10/14/2016",
          "10/17/2016",
          "10/18/2016",
          "10/19/2016",
          "10/20/2016",
          "10/21/2016",
          "10/24/2016",
          "10/25/2016",
          "10/26/2016",
          "10/27/2016",
          "10/28/2016",
          "10/31/2016",
          "11/1/2016",
          "11/2/2016",
          "11/3/2016",
          "11/4/2016",
          "11/7/2016",
          "11/8/2016",
          "11/9/2016",
          "11/10/2016",
          "11/11/2016",
          "11/14/2016",
          "11/15/2016",
          "11/16/2016",
          "11/17/2016",
          "11/18/2016",
          "11/21/2016",
          "11/22/2016",
          "11/23/2016",
          "11/25/2016",
          "11/28/2016",
          "11/29/2016",
          "11/30/2016",
          "12/1/2016",
          "12/2/2016",
          "12/5/2016",
          "12/6/2016",
          "12/7/2016",
          "12/8/2016",
          "12/9/2016",
          "12/12/2016",
          "12/13/2016",
          "12/14/2016",
          "12/15/2016",
          "12/16/2016",
          "12/19/2016",
          "12/20/2016",
          "12/21/2016",
          "12/22/2016",
          "12/23/2016",
          "12/27/2016",
          "12/28/2016",
          "12/29/2016",
          "12/30/2016",
          "1/3/2017",
          "1/4/2017",
          "1/5/2017",
          "1/6/2017",
          "1/9/2017",
          "1/10/2017",
          "1/11/2017",
          "1/12/2017",
          "1/13/2017",
          "1/17/2017",
          "1/18/2017",
          "1/19/2017",
          "1/20/2017",
          "1/23/2017",
          "1/24/2017",
          "1/25/2017",
          "1/26/2017",
          "1/27/2017",
          "1/30/2017",
          "1/31/2017",
          "2/1/2017",
          "2/2/2017",
          "2/3/2017",
          "2/6/2017",
          "2/7/2017",
          "2/8/2017",
          "2/9/2017",
          "2/10/2017",
          "2/13/2017",
          "2/14/2017",
          "2/15/2017",
          "2/16/2017",
          "2/17/2017",
          "2/21/2017",
          "2/22/2017",
          "2/23/2017",
          "2/24/2017",
          "2/27/2017",
          "2/28/2017",
          "3/1/2017",
          "3/2/2017",
          "3/3/2017",
          "3/6/2017",
          "3/7/2017",
          "3/8/2017",
          "3/9/2017",
          "3/10/2017",
          "3/13/2017",
          "3/14/2017",
          "3/15/2017",
          "3/16/2017",
          "3/17/2017",
          "3/20/2017",
          "3/21/2017",
          "3/22/2017",
          "3/23/2017",
          "3/24/2017",
          "3/27/2017",
          "3/28/2017",
          "3/29/2017",
          "3/30/2017",
          "3/31/2017",
          "4/3/2017",
          "4/4/2017",
          "4/5/2017",
          "4/6/2017",
          "4/7/2017",
          "4/10/2017",
          "4/11/2017",
          "4/12/2017",
          "4/13/2017",
          "4/17/2017",
          "4/18/2017",
          "4/19/2017",
          "4/20/2017",
          "4/21/2017",
          "4/24/2017",
          "4/25/2017",
          "4/26/2017",
          "4/27/2017",
          "4/28/2017",
          "5/1/2017",
          "5/2/2017",
          "5/3/2017",
          "5/4/2017",
          "5/5/2017",
          "5/8/2017",
          "5/9/2017",
          "5/10/2017",
          "5/11/2017",
          "5/12/2017",
          "5/15/2017",
          "5/16/2017",
          "5/17/2017",
          "5/18/2017",
          "5/19/2017",
          "5/22/2017",
          "5/23/2017",
          "5/24/2017",
          "5/25/2017",
          "5/26/2017",
          "5/30/2017",
          "5/31/2017",
          "6/1/2017",
          "6/2/2017",
          "6/5/2017",
          "6/6/2017",
          "6/7/2017",
          "6/8/2017",
          "6/9/2017",
          "6/12/2017",
          "6/13/2017",
          "6/14/2017",
          "6/15/2017",
          "6/16/2017",
          "6/19/2017",
          "6/20/2017",
          "6/21/2017",
          "6/22/2017",
          "6/23/2017",
          "6/26/2017",
          "6/27/2017",
          "6/28/2017",
          "6/29/2017",
          "6/30/2017",
          "7/3/2017",
          "7/5/2017",
          "7/6/2017",
          "7/7/2017",
          "7/10/2017",
          "7/11/2017",
          "7/12/2017",
          "7/13/2017",
          "7/14/2017",
          "7/17/2017",
          "7/18/2017",
          "7/19/2017",
          "7/20/2017",
          "7/21/2017",
          "7/24/2017",
          "7/25/2017",
          "7/26/2017",
          "7/27/2017",
          "7/28/2017",
          "7/31/2017",
          "8/1/2017",
          "8/2/2017",
          "8/3/2017",
          "8/4/2017",
          "8/7/2017",
          "8/8/2017",
          "8/9/2017",
          "8/10/2017",
          "8/11/2017",
          "8/14/2017",
          "8/15/2017",
          "8/16/2017",
          "8/17/2017",
          "8/18/2017",
          "8/21/2017",
          "8/22/2017",
          "8/23/2017",
          "8/24/2017",
          "8/25/2017",
          "8/28/2017",
          "8/29/2017",
          "8/30/2017",
          "8/31/2017",
          "9/1/2017",
          "9/5/2017",
          "9/6/2017",
          "9/7/2017",
          "9/8/2017",
          "9/11/2017",
          "9/12/2017",
          "9/13/2017",
          "9/14/2017",
          "9/15/2017",
          "9/18/2017",
          "9/19/2017",
          "9/20/2017",
          "9/21/2017",
          "9/22/2017",
          "9/25/2017",
          "9/26/2017",
          "9/27/2017",
          "9/28/2017",
          "9/29/2017",
          "10/2/2017",
          "10/3/2017",
          "10/4/2017",
          "10/5/2017",
          "10/6/2017",
          "10/9/2017",
          "10/10/2017",
          "10/11/2017",
          "10/12/2017",
          "10/13/2017",
          "10/16/2017",
          "10/17/2017",
          "10/18/2017",
          "10/19/2017",
          "10/20/2017",
          "10/23/2017",
          "10/24/2017",
          "10/25/2017",
          "10/26/2017",
          "10/27/2017",
          "10/30/2017",
          "10/31/2017",
          "11/1/2017",
          "11/2/2017",
          "11/3/2017",
          "11/6/2017",
          "11/7/2017",
          "11/8/2017",
          "11/9/2017",
          "11/10/2017",
          "11/13/2017",
          "11/14/2017",
          "11/15/2017",
          "11/16/2017",
          "11/17/2017",
          "11/20/2017",
          "11/21/2017",
          "11/22/2017",
          "11/24/2017",
          "11/27/2017",
          "11/28/2017",
          "11/29/2017",
          "11/30/2017",
          "12/1/2017",
          "12/4/2017",
          "12/5/2017",
          "12/6/2017",
          "12/7/2017",
          "12/8/2017",
          "12/11/2017",
          "12/12/2017",
          "12/13/2017",
          "12/14/2017",
          "12/15/2017",
          "12/18/2017",
          "12/19/2017",
          "12/20/2017",
          "12/21/2017",
          "12/22/2017",
          "12/26/2017",
          "12/27/2017",
          "12/28/2017",
          "12/29/2017",
          "1/2/2018",
          "1/3/2018",
          "1/4/2018",
          "1/5/2018",
          "1/8/2018",
          "1/9/2018",
          "1/10/2018",
          "1/11/2018",
          "1/12/2018",
          "1/16/2018",
          "1/17/2018",
          "1/18/2018",
          "1/19/2018",
          "1/22/2018",
          "1/23/2018",
          "1/24/2018",
          "1/25/2018",
          "1/26/2018",
          "1/29/2018",
          "1/30/2018",
          "1/31/2018",
          "2/1/2018",
          "2/2/2018",
          "2/5/2018",
          "2/6/2018",
          "2/7/2018",
          "2/8/2018",
          "2/9/2018",
          "2/12/2018",
          "2/13/2018",
          "2/14/2018",
          "2/15/2018",
          "2/16/2018",
          "2/20/2018",
          "2/21/2018",
          "2/22/2018",
          "2/23/2018",
          "2/26/2018",
          "2/27/2018",
          "2/28/2018",
          "3/1/2018",
          "3/2/2018",
          "3/5/2018",
          "3/6/2018",
          "3/7/2018",
          "3/8/2018",
          "3/9/2018",
          "3/12/2018",
          "3/13/2018",
          "3/14/2018",
          "3/15/2018",
          "3/16/2018",
          "3/19/2018",
          "3/20/2018",
          "3/21/2018",
          "3/22/2018",
          "3/23/2018",
          "3/26/2018",
          "3/27/2018",
          "3/28/2018",
          "3/29/2018",
          "4/2/2018",
          "4/3/2018",
          "4/4/2018",
          "4/5/2018",
          "4/6/2018",
          "4/9/2018",
          "4/10/2018",
          "4/11/2018",
          "4/12/2018",
          "4/13/2018",
          "4/16/2018",
          "4/17/2018",
          "4/18/2018",
          "4/19/2018",
          "4/20/2018",
          "4/23/2018",
          "4/24/2018",
          "4/25/2018",
          "4/26/2018",
          "4/27/2018",
          "4/30/2018",
          "5/1/2018",
          "5/2/2018",
          "5/3/2018",
          "5/4/2018",
          "5/7/2018",
          "5/8/2018",
          "5/9/2018",
          "5/10/2018",
          "5/11/2018",
          "5/14/2018",
          "5/15/2018",
          "5/16/2018",
          "5/17/2018",
          "5/18/2018",
          "5/21/2018",
          "5/22/2018",
          "5/23/2018",
          "5/24/2018",
          "5/25/2018",
          "5/29/2018",
          "5/30/2018",
          "5/31/2018",
          "6/1/2018",
          "6/4/2018",
          "6/5/2018",
          "6/6/2018",
          "6/7/2018",
          "6/8/2018",
          "6/11/2018",
          "6/12/2018",
          "6/13/2018",
          "6/14/2018",
          "6/15/2018",
          "6/18/2018",
          "6/19/2018",
          "6/20/2018",
          "6/21/2018",
          "6/22/2018",
          "6/25/2018",
          "6/26/2018",
          "6/27/2018",
          "6/28/2018",
          "6/29/2018",
          "7/2/2018",
          "7/3/2018",
          "7/5/2018",
          "7/6/2018",
          "7/9/2018",
          "7/10/2018",
          "7/11/2018",
          "7/12/2018",
          "7/13/2018",
          "7/16/2018",
          "7/17/2018",
          "7/18/2018",
          "7/19/2018",
          "7/20/2018",
          "7/23/2018",
          "7/24/2018",
          "7/25/2018",
          "7/26/2018",
          "7/27/2018",
          "7/30/2018",
          "7/31/2018",
          "8/1/2018",
          "8/2/2018",
          "8/3/2018",
          "8/6/2018",
          "8/7/2018",
          "8/8/2018",
          "8/9/2018",
          "8/10/2018",
          "8/13/2018",
          "8/14/2018",
          "8/15/2018",
          "8/16/2018",
          "8/17/2018",
          "8/20/2018",
          "8/21/2018",
          "8/22/2018",
          "8/23/2018",
          "8/24/2018",
          "8/27/2018",
          "8/28/2018",
          "8/29/2018",
          "8/30/2018",
          "8/31/2018",
          "9/4/2018",
          "9/5/2018",
          "9/6/2018",
          "9/7/2018",
          "9/10/2018",
          "9/11/2018",
          "9/12/2018",
          "9/13/2018",
          "9/14/2018",
          "9/17/2018",
          "9/18/2018",
          "9/19/2018",
          "9/20/2018",
          "9/21/2018",
          "9/24/2018",
          "9/25/2018",
          "9/26/2018",
          "9/27/2018",
          "9/28/2018",
          "10/1/2018",
          "10/2/2018",
          "10/3/2018",
          "10/4/2018",
          "10/5/2018",
          "10/9/2018",
          "10/10/2018",
          "10/11/2018",
          "10/12/2018",
          "10/15/2018",
          "10/16/2018",
          "10/17/2018",
          "10/18/2018",
          "10/19/2018",
          "10/22/2018",
          "10/23/2018",
          "10/24/2018",
          "10/25/2018",
          "10/26/2018",
          "10/29/2018",
          "10/30/2018",
          "10/31/2018",
          "11/1/2018",
          "11/2/2018",
          "11/5/2018",
          "11/6/2018",
          "11/7/2018",
          "11/8/2018",
          "11/9/2018",
          "11/13/2018",
          "11/14/2018",
          "11/15/2018",
          "11/16/2018",
          "11/19/2018",
          "11/20/2018",
          "11/21/2018",
          "11/23/2018",
          "11/26/2018",
          "11/27/2018",
          "11/28/2018",
          "11/29/2018",
          "11/30/2018",
          "12/3/2018",
          "12/4/2018",
          "12/6/2018",
          "12/7/2018",
          "12/10/2018",
          "12/11/2018",
          "12/12/2018",
          "12/13/2018",
          "12/14/2018",
          "12/17/2018",
          "12/18/2018",
          "12/19/2018",
          "12/20/2018",
          "12/21/2018",
          "12/24/2018",
          "12/26/2018",
          "12/27/2018",
          "12/28/2018",
          "12/31/2018",
          "1/2/2019",
          "1/3/2019",
          "1/4/2019",
          "1/7/2019",
          "1/8/2019",
          "1/9/2019",
          "1/10/2019",
          "1/11/2019",
          "1/14/2019",
          "1/15/2019",
          "1/16/2019",
          "1/17/2019",
          "1/18/2019",
          "1/22/2019",
          "1/23/2019",
          "1/24/2019",
          "1/25/2019",
          "1/28/2019",
          "1/29/2019",
          "1/30/2019",
          "1/31/2019",
          "2/1/2019",
          "2/4/2019",
          "2/5/2019",
          "2/6/2019",
          "2/7/2019",
          "2/8/2019",
          "2/11/2019",
          "2/12/2019",
          "2/13/2019",
          "2/14/2019",
          "2/15/2019",
          "2/19/2019",
          "2/20/2019",
          "2/21/2019",
          "2/22/2019",
          "2/25/2019",
          "2/26/2019",
          "2/27/2019",
          "2/28/2019",
          "3/1/2019",
          "3/4/2019",
          "3/5/2019",
          "3/6/2019",
          "3/7/2019",
          "3/8/2019",
          "3/11/2019",
          "3/12/2019",
          "3/13/2019",
          "3/14/2019",
          "3/15/2019",
          "3/18/2019",
          "3/19/2019",
          "3/20/2019",
          "3/21/2019",
          "3/22/2019",
          "3/25/2019",
          "3/26/2019",
          "3/27/2019",
          "3/28/2019",
          "3/29/2019",
          "4/1/2019",
          "4/2/2019",
          "4/3/2019",
          "4/4/2019",
          "4/5/2019",
          "4/8/2019",
          "4/9/2019",
          "4/10/2019",
          "4/11/2019",
          "4/12/2019",
          "4/15/2019",
          "4/16/2019",
          "4/17/2019",
          "4/18/2019",
          "4/22/2019",
          "4/23/2019",
          "4/24/2019",
          "4/25/2019",
          "4/26/2019",
          "4/29/2019",
          "4/30/2019",
          "5/1/2019",
          "5/2/2019",
          "5/3/2019",
          "5/6/2019",
          "5/7/2019",
          "5/8/2019",
          "5/9/2019",
          "5/10/2019",
          "5/13/2019",
          "5/14/2019",
          "5/15/2019",
          "5/16/2019",
          "5/17/2019",
          "5/20/2019",
          "5/21/2019",
          "5/22/2019",
          "5/23/2019",
          "5/24/2019",
          "5/28/2019",
          "5/29/2019",
          "5/30/2019",
          "5/31/2019",
          "6/3/2019",
          "6/4/2019",
          "6/5/2019",
          "6/6/2019",
          "6/7/2019",
          "6/10/2019",
          "6/11/2019",
          "6/12/2019",
          "6/13/2019",
          "6/14/2019",
          "6/17/2019",
          "6/18/2019",
          "6/19/2019",
          "6/20/2019",
          "6/21/2019",
          "6/24/2019",
          "6/25/2019",
          "6/26/2019",
          "6/27/2019",
          "6/28/2019",
          "7/1/2019",
          "7/2/2019",
          "7/3/2019",
          "7/5/2019",
          "7/8/2019",
          "7/9/2019",
          "7/10/2019",
          "7/11/2019",
          "7/12/2019",
          "7/15/2019",
          "7/16/2019",
          "7/17/2019",
          "7/18/2019",
          "7/19/2019",
          "7/22/2019",
          "7/23/2019",
          "7/24/2019",
          "7/25/2019",
          "7/26/2019",
          "7/29/2019",
          "7/30/2019",
          "7/31/2019",
          "8/1/2019",
          "8/2/2019",
          "8/5/2019",
          "8/6/2019",
          "8/7/2019",
          "8/8/2019",
          "8/9/2019",
          "8/12/2019",
          "8/13/2019",
          "8/14/2019",
          "8/15/2019",
          "8/16/2019",
          "8/19/2019",
          "8/20/2019",
          "8/21/2019",
          "8/22/2019",
          "8/23/2019",
          "8/26/2019",
          "8/27/2019",
          "8/28/2019",
          "8/29/2019",
          "8/30/2019",
          "9/3/2019",
          "9/4/2019",
          "9/5/2019",
          "9/6/2019",
          "9/9/2019",
          "9/10/2019",
          "9/11/2019",
          "9/12/2019",
          "9/13/2019",
          "9/16/2019",
          "9/17/2019",
          "9/18/2019",
          "9/19/2019",
          "9/20/2019",
          "9/23/2019",
          "9/24/2019",
          "9/25/2019",
          "9/26/2019",
          "9/27/2019",
          "9/30/2019",
          "10/1/2019",
          "10/2/2019",
          "10/3/2019",
          "10/4/2019",
          "10/7/2019",
          "10/8/2019",
          "10/9/2019",
          "10/10/2019",
          "10/11/2019",
          "10/14/2019",
          "10/15/2019",
          "10/16/2019",
          "10/17/2019",
          "10/18/2019",
          "10/21/2019",
          "10/22/2019",
          "10/23/2019",
          "10/24/2019",
          "10/25/2019",
          "10/28/2019",
          "10/29/2019",
          "10/30/2019",
          "10/31/2019",
          "11/1/2019",
          "11/4/2019",
          "11/5/2019",
          "11/6/2019",
          "11/7/2019",
          "11/8/2019",
          "11/11/2019",
          "11/12/2019",
          "11/13/2019",
          "11/14/2019",
          "11/15/2019",
          "11/18/2019",
          "11/19/2019",
          "11/20/2019",
          "11/21/2019",
          "11/22/2019",
          "11/25/2019",
          "11/26/2019",
          "11/27/2019",
          "11/29/2019",
          "12/2/2019",
          "12/3/2019",
          "12/4/2019",
          "12/5/2019",
          "12/6/2019",
          "12/9/2019",
          "12/10/2019",
          "12/11/2019",
          "12/12/2019",
          "12/13/2019",
          "12/16/2019",
          "12/17/2019",
          "12/18/2019",
          "12/19/2019",
          "12/20/2019",
          "12/23/2019",
          "12/24/2019",
          "12/26/2019",
          "12/27/2019",
          "12/30/2019",
          "12/31/2019",
          "1/2/2020",
          "1/3/2020",
          "1/6/2020",
          "1/7/2020",
          "1/8/2020",
          "1/9/2020",
          "1/10/2020",
          "1/13/2020",
          "1/14/2020",
          "1/15/2020",
          "1/16/2020",
          "1/17/2020",
          "1/21/2020",
          "1/22/2020",
          "1/23/2020",
          "1/24/2020",
          "1/27/2020",
          "1/28/2020",
          "1/29/2020",
          "1/30/2020",
          "1/31/2020",
          "2/3/2020",
          "2/4/2020",
          "2/5/2020",
          "2/6/2020",
          "2/7/2020",
          "2/10/2020",
          "2/11/2020",
          "2/12/2020",
          "2/13/2020",
          "2/14/2020",
          "2/18/2020",
          "2/19/2020",
          "2/20/2020",
          "2/21/2020",
          "2/24/2020",
          "2/25/2020",
          "2/26/2020",
          "2/27/2020",
          "2/28/2020",
          "3/2/2020",
          "3/3/2020",
          "3/4/2020",
          "3/5/2020",
          "3/6/2020",
          "3/9/2020",
          "3/10/2020",
          "3/11/2020",
          "3/12/2020",
          "3/13/2020",
          "3/16/2020",
          "3/17/2020",
          "3/18/2020",
          "3/19/2020",
          "3/20/2020",
          "3/23/2020",
          "3/24/2020",
          "3/25/2020",
          "3/26/2020",
          "3/27/2020",
          "3/30/2020",
          "3/31/2020",
          "4/1/2020",
          "4/2/2020",
          "4/3/2020",
          "4/6/2020",
          "4/7/2020",
          "4/8/2020",
          "4/9/2020",
          "4/13/2020",
          "4/14/2020",
          "4/15/2020",
          "4/16/2020",
          "4/17/2020",
          "4/20/2020",
          "4/21/2020",
          "4/22/2020",
          "4/23/2020",
          "4/24/2020",
          "4/27/2020",
          "4/28/2020",
          "4/29/2020",
          "4/30/2020",
          "5/1/2020",
          "5/4/2020",
          "5/5/2020",
          "5/6/2020",
          "5/7/2020",
          "5/8/2020",
          "5/11/2020",
          "5/12/2020",
          "5/13/2020",
          "5/14/2020",
          "5/15/2020",
          "5/18/2020",
          "5/19/2020",
          "5/20/2020",
          "5/21/2020",
          "5/22/2020",
          "5/26/2020",
          "5/27/2020",
          "5/28/2020",
          "5/29/2020",
          "6/1/2020",
          "6/2/2020",
          "6/3/2020",
          "6/4/2020",
          "6/5/2020",
          "6/8/2020",
          "6/9/2020",
          "6/10/2020",
          "6/11/2020",
          "6/12/2020",
          "6/15/2020",
          "6/16/2020",
          "6/17/2020",
          "6/18/2020",
          "6/19/2020",
          "6/22/2020",
          "6/23/2020",
          "6/24/2020",
          "6/25/2020",
          "6/26/2020",
          "6/29/2020",
          "6/30/2020",
          "7/1/2020",
          "7/2/2020",
          "7/6/2020",
          "7/7/2020",
          "7/8/2020",
          "7/9/2020",
          "7/10/2020",
          "7/13/2020",
          "7/14/2020",
          "7/15/2020",
          "7/16/2020",
          "7/17/2020",
          "7/20/2020",
          "7/21/2020",
          "7/22/2020",
          "7/23/2020",
          "7/24/2020",
          "7/27/2020",
          "7/28/2020",
          "7/29/2020",
          "7/30/2020",
          "7/31/2020",
          "8/3/2020",
          "8/4/2020",
          "8/5/2020",
          "8/6/2020",
          "8/7/2020",
          "8/10/2020",
          "8/11/2020",
          "8/12/2020",
          "8/13/2020",
          "8/14/2020",
          "8/17/2020",
          "8/18/2020",
          "8/19/2020",
          "8/20/2020",
          "8/21/2020",
          "8/24/2020",
          "8/25/2020",
          "8/26/2020",
          "8/27/2020",
          "8/28/2020",
          "8/31/2020",
          "9/1/2020",
          "9/2/2020",
          "9/3/2020",
          "9/4/2020",
          "9/8/2020",
          "9/9/2020",
          "9/10/2020",
          "9/11/2020",
          "9/14/2020",
          "9/15/2020",
          "9/16/2020",
          "9/17/2020",
          "9/18/2020",
          "9/21/2020",
          "9/22/2020",
          "9/23/2020",
          "9/24/2020",
          "9/25/2020",
          "9/28/2020",
          "9/29/2020",
          "9/30/2020",
          "10/1/2020",
          "10/2/2020",
          "10/5/2020",
          "10/6/2020",
          "10/7/2020",
          "10/8/2020",
          "10/9/2020",
          "10/12/2020",
          "10/13/2020",
          "10/14/2020",
          "10/15/2020",
          "10/16/2020",
          "10/19/2020",
          "10/20/2020",
          "10/21/2020",
          "10/22/2020",
          "10/23/2020",
          "10/26/2020",
          "10/27/2020",
          "10/28/2020",
          "10/29/2020",
          "10/30/2020",
          "11/2/2020",
          "11/3/2020",
          "11/4/2020",
          "11/5/2020",
          "11/6/2020",
          "11/9/2020",
          "11/10/2020",
          "11/11/2020",
          "11/12/2020",
          "11/13/2020",
          "11/16/2020",
          "11/17/2020",
          "11/18/2020",
          "11/19/2020",
          "11/20/2020",
          "11/23/2020",
          "11/24/2020",
          "11/25/2020",
          "11/27/2020",
          "11/30/2020",
          "12/1/2020",
          "12/2/2020",
          "12/3/2020",
          "12/4/2020",
          "12/7/2020",
          "12/8/2020",
          "12/9/2020",
          "12/10/2020",
          "12/11/2020",
          "12/14/2020",
          "12/15/2020",
          "12/16/2020",
          "12/17/2020",
          "12/18/2020",
          "12/21/2020",
          "12/22/2020",
          "12/23/2020",
          "12/24/2020",
          "12/28/2020",
          "12/29/2020",
          "12/30/2020",
          "12/31/2020",
          "1/4/2021",
          "1/5/2021",
          "1/6/2021",
          "1/7/2021",
          "1/8/2021",
          "1/11/2021",
          "1/12/2021",
          "1/13/2021",
          "1/14/2021",
          "1/15/2021",
          "1/19/2021",
          "1/20/2021",
          "1/21/2021",
          "1/22/2021",
          "1/25/2021",
          "1/26/2021",
          "1/27/2021",
          "1/28/2021",
          "1/29/2021",
          "2/1/2021",
          "2/2/2021",
          "2/3/2021",
          "2/4/2021",
          "2/5/2021",
          "2/8/2021",
          "2/9/2021",
          "2/10/2021",
          "2/11/2021",
          "2/12/2021",
          "2/16/2021",
          "2/17/2021",
          "2/18/2021",
          "2/19/2021",
          "2/22/2021",
          "2/23/2021",
          "2/24/2021",
          "2/25/2021",
          "2/26/2021",
          "3/1/2021",
          "3/2/2021",
          "3/3/2021",
          "3/4/2021",
          "3/5/2021",
          "3/8/2021",
          "3/9/2021",
          "3/10/2021",
          "3/11/2021",
          "3/12/2021",
          "3/15/2021",
          "3/16/2021",
          "3/17/2021",
          "3/18/2021",
          "3/19/2021",
          "3/22/2021",
          "3/23/2021",
          "3/24/2021",
          "3/25/2021",
          "3/26/2021",
          "3/29/2021",
          "3/30/2021",
          "3/31/2021",
          "4/1/2021",
          "4/5/2021",
          "4/6/2021",
          "4/7/2021",
          "4/8/2021",
          "4/9/2021",
          "4/12/2021",
          "4/13/2021",
          "4/14/2021",
          "4/15/2021",
          "4/16/2021",
          "4/19/2021",
          "4/20/2021",
          "4/21/2021",
          "4/22/2021",
          "4/23/2021",
          "4/26/2021",
          "4/27/2021",
          "4/28/2021",
          "4/29/2021",
          "4/30/2021",
          "5/3/2021",
          "5/4/2021",
          "5/5/2021",
          "5/6/2021",
          "5/7/2021",
          "5/10/2021",
          "5/11/2021",
          "5/12/2021",
          "5/13/2021",
          "5/14/2021",
          "5/17/2021",
          "5/18/2021",
          "5/19/2021",
          "5/20/2021",
          "5/21/2021",
          "5/24/2021",
          "5/25/2021",
          "5/26/2021",
          "5/27/2021",
          "5/28/2021",
          "6/1/2021",
          "6/2/2021",
          "6/3/2021",
          "6/4/2021",
          "6/7/2021",
          "6/8/2021",
          "6/9/2021",
          "6/10/2021",
          "6/11/2021",
          "6/14/2021",
          "6/15/2021",
          "6/16/2021",
          "6/17/2021",
          "6/18/2021",
          "6/21/2021",
          "6/22/2021",
          "6/23/2021",
          "6/24/2021",
          "6/25/2021",
          "6/28/2021",
          "6/29/2021",
          "6/30/2021",
          "7/1/2021",
          "7/2/2021",
          "7/6/2021",
          "7/7/2021",
          "7/8/2021",
          "7/9/2021",
          "7/12/2021",
          "7/13/2021",
          "7/14/2021",
          "7/15/2021",
          "7/16/2021",
          "7/19/2021",
          "7/20/2021",
          "7/21/2021",
          "7/22/2021",
          "7/23/2021",
          "7/26/2021",
          "7/27/2021",
          "7/28/2021",
          "7/29/2021",
          "7/30/2021",
          "8/2/2021",
          "8/3/2021",
          "8/4/2021",
          "8/5/2021",
          "8/6/2021",
          "8/9/2021",
          "8/10/2021",
          "8/11/2021",
          "8/12/2021",
          "8/13/2021",
          "8/16/2021",
          "8/17/2021",
          "8/18/2021",
          "8/19/2021",
          "8/20/2021",
          "8/23/2021",
          "8/24/2021",
          "8/25/2021",
          "8/26/2021",
          "8/27/2021",
          "8/30/2021",
          "8/31/2021",
          "9/1/2021",
          "9/2/2021",
          "9/3/2021",
          "9/7/2021",
          "9/8/2021",
          "9/9/2021",
          "9/10/2021",
          "9/13/2021",
          "9/14/2021",
          "9/15/2021",
          "9/16/2021",
          "9/17/2021",
          "9/20/2021",
          "9/21/2021",
          "9/22/2021",
          "9/23/2021",
          "9/24/2021",
          "9/27/2021",
          "9/28/2021",
          "9/29/2021",
          "9/30/2021",
          "10/1/2021",
          "10/4/2021",
          "10/5/2021",
          "10/6/2021",
          "10/7/2021",
          "10/8/2021",
          "10/11/2021",
          "10/12/2021",
          "10/13/2021",
          "10/14/2021",
          "10/15/2021",
          "10/18/2021",
          "10/19/2021",
          "10/20/2021",
          "10/21/2021",
          "10/22/2021",
          "10/25/2021",
          "10/26/2021",
          "10/27/2021",
          "10/28/2021",
          "10/29/2021",
          "11/1/2021",
          "11/2/2021",
          "11/3/2021",
          "11/4/2021",
          "11/5/2021",
          "11/8/2021",
          "11/9/2021",
          "11/10/2021",
          "11/11/2021",
          "11/12/2021",
          "11/15/2021",
          "11/16/2021",
          "11/17/2021",
          "11/18/2021",
          "11/19/2021",
          "11/22/2021",
          "11/23/2021",
          "11/24/2021",
          "11/26/2021",
          "11/29/2021",
          "11/30/2021",
          "12/1/2021",
          "12/2/2021",
          "12/3/2021",
          "12/6/2021",
          "12/7/2021",
          "12/8/2021",
          "12/9/2021",
          "12/10/2021",
          "12/13/2021",
          "12/14/2021",
          "12/15/2021",
          "12/16/2021",
          "12/17/2021",
          "12/20/2021",
          "12/21/2021",
          "12/22/2021",
          "12/23/2021",
          "12/27/2021",
          "12/28/2021",
          "12/29/2021",
          "12/30/2021",
          "12/31/2021",
          "1/3/2022",
          "1/4/2022",
          "1/5/2022",
          "1/6/2022",
          "1/7/2022",
          "1/10/2022",
          "1/11/2022",
          "1/12/2022",
          "1/13/2022",
          "1/14/2022",
          "1/18/2022",
          "1/19/2022",
          "1/20/2022",
          "1/21/2022",
          "1/24/2022",
          "1/25/2022",
          "1/26/2022",
          "1/27/2022",
          "1/28/2022",
          "1/31/2022",
          "2/1/2022",
          "2/2/2022",
          "2/3/2022",
          "2/4/2022",
          "2/7/2022",
          "2/8/2022",
          "2/9/2022",
          "2/10/2022",
          "2/11/2022",
          "2/14/2022",
          "2/15/2022",
          "2/16/2022",
          "2/17/2022",
          "2/18/2022",
          "2/22/2022",
          "2/23/2022",
          "2/24/2022",
          "2/25/2022",
          "2/28/2022",
          "3/1/2022",
          "3/2/2022",
          "3/3/2022",
          "3/4/2022",
          "3/7/2022",
          "3/8/2022",
          "3/9/2022",
          "3/10/2022",
          "3/11/2022",
          "3/14/2022",
          "3/15/2022",
          "3/16/2022",
          "3/17/2022",
          "3/18/2022",
          "3/21/2022",
          "3/22/2022",
          "3/23/2022",
          "3/24/2022",
          "3/25/2022",
          "3/28/2022",
          "3/29/2022",
          "3/30/2022",
          "3/31/2022",
          "4/1/2022",
          "4/4/2022",
          "4/5/2022",
          "4/6/2022",
          "4/7/2022",
          "4/8/2022",
          "4/11/2022",
          "4/12/2022",
          "4/13/2022",
          "4/14/2022",
          "4/18/2022",
          "4/19/2022",
          "4/20/2022",
          "4/21/2022",
          "4/22/2022",
          "4/25/2022",
          "4/26/2022",
          "4/27/2022",
          "4/28/2022",
          "4/29/2022",
          "5/2/2022",
          "5/3/2022",
          "5/4/2022",
          "5/5/2022",
          "5/6/2022",
          "5/9/2022",
          "5/10/2022",
          "5/11/2022",
          "5/12/2022",
          "5/13/2022",
          "5/16/2022",
          "5/17/2022",
          "5/18/2022",
          "5/19/2022",
          "5/20/2022",
          "5/23/2022",
          "5/24/2022",
          "5/25/2022",
          "5/26/2022",
          "5/27/2022",
          "5/31/2022",
          "6/1/2022",
          "6/2/2022",
          "6/3/2022",
          "6/6/2022",
          "6/7/2022",
          "6/8/2022",
          "6/9/2022",
          "6/10/2022",
          "6/13/2022",
          "6/14/2022",
          "6/15/2022",
          "6/16/2022",
          "6/17/2022",
          "6/21/2022",
          "6/22/2022",
          "6/23/2022",
          "6/24/2022",
          "6/27/2022",
          "6/28/2022",
          "6/29/2022",
          "6/30/2022",
          "7/1/2022",
          "7/5/2022",
          "7/6/2022",
          "7/7/2022",
          "7/8/2022",
          "7/11/2022",
          "7/12/2022",
          "7/13/2022",
          "7/14/2022",
          "7/15/2022",
          "7/18/2022",
          "7/19/2022",
          "7/20/2022",
          "7/21/2022",
          "7/22/2022",
          "7/25/2022",
          "7/26/2022",
          "7/27/2022",
          "7/28/2022",
          "7/29/2022",
          "8/1/2022",
          "8/2/2022",
          "8/3/2022",
          "8/4/2022",
          "8/5/2022",
          "8/8/2022",
          "8/9/2022",
          "8/10/2022",
          "8/11/2022",
          "8/12/2022",
          "8/15/2022",
          "8/16/2022",
          "8/17/2022",
          "8/18/2022",
          "8/19/2022",
          "8/22/2022",
          "8/23/2022",
          "8/24/2022",
          "8/25/2022",
          "8/26/2022",
          "8/29/2022",
          "8/30/2022",
          "8/31/2022",
          "9/1/2022",
          "9/2/2022",
          "9/6/2022",
          "9/7/2022",
          "9/8/2022",
          "9/9/2022",
          "9/12/2022",
          "9/13/2022",
          "9/14/2022",
          "9/15/2022",
          "9/16/2022",
          "9/19/2022",
          "9/20/2022",
          "9/21/2022",
          "9/22/2022",
          "9/23/2022",
          "9/26/2022",
          "9/27/2022",
          "9/28/2022",
          "9/29/2022",
          "9/30/2022",
          "10/3/2022",
          "10/4/2022",
          "10/5/2022",
          "10/6/2022",
          "10/7/2022",
          "10/10/2022",
          "10/11/2022",
          "10/12/2022",
          "10/13/2022",
          "10/14/2022",
          "10/17/2022",
          "10/18/2022",
          "10/19/2022",
          "10/20/2022",
          "10/21/2022",
          "10/24/2022",
          "10/25/2022",
          "10/26/2022",
          "10/27/2022",
          "10/28/2022",
          "10/31/2022",
          "11/1/2022",
          "11/2/2022",
          "11/3/2022",
          "11/4/2022",
          "11/7/2022",
          "11/8/2022",
          "11/9/2022",
          "11/10/2022",
          "11/11/2022",
          "11/14/2022",
          "11/15/2022",
          "11/16/2022",
          "11/17/2022",
          "11/18/2022",
          "11/21/2022",
          "11/22/2022",
          "11/23/2022",
          "11/25/2022",
          "11/28/2022",
          "11/29/2022",
          "11/30/2022",
          "12/1/2022",
          "12/2/2022",
          "12/5/2022",
          "12/6/2022",
          "12/7/2022",
          "12/8/2022",
          "12/9/2022",
          "12/12/2022",
          "12/13/2022",
          "12/14/2022",
          "12/15/2022",
          "12/16/2022",
          "12/19/2022",
          "12/20/2022",
          "12/21/2022",
          "12/22/2022",
          "12/23/2022",
          "12/27/2022",
          "12/28/2022",
          "12/29/2022",
          "12/30/2022",
          "12/31/2022",
          "1/3/2023",
          "1/4/2023",
          "1/5/2023",
          "1/6/2023",
          "1/9/2023",
          "1/10/2023",
          "1/11/2023",
          "1/12/2023",
          "1/13/2023",
          "1/17/2023",
          "1/18/2023",
          "1/19/2023",
          "1/20/2023",
          "1/23/2023",
          "1/24/2023",
          "1/25/2023",
          "1/26/2023",
          "1/27/2023",
          "1/30/2023",
          "1/31/2023",
          "2/1/2023",
          "2/2/2023",
          "2/3/2023",
          "2/6/2023",
          "2/7/2023",
          "2/8/2023",
          "2/9/2023",
          "2/10/2023",
          "2/13/2023",
          "2/14/2023",
          "2/15/2023",
          "2/16/2023",
          "2/17/2023",
          "2/21/2023",
          "2/22/2023",
          "2/23/2023",
          "2/24/2023",
          "2/27/2023",
          "2/28/2023",
          "3/1/2023",
          "3/2/2023",
          "3/3/2023",
          "3/6/2023",
          "3/7/2023",
          "3/8/2023",
          "3/9/2023",
          "3/10/2023",
          "3/13/2023",
          "3/14/2023",
          "3/15/2023",
          "3/16/2023",
          "3/17/2023",
          "3/20/2023",
          "3/21/2023",
          "3/22/2023",
          "3/23/2023",
          "3/24/2023",
          "3/27/2023",
          "3/28/2023",
          "3/29/2023",
          "3/30/2023",
          "3/31/2023",
          "4/3/2023",
          "4/4/2023",
          "4/5/2023",
          "4/6/2023",
          "4/10/2023",
          "4/11/2023",
          "4/12/2023",
          "4/13/2023",
          "4/14/2023",
          "4/17/2023",
          "4/18/2023",
          "4/19/2023",
          "4/20/2023",
          "4/21/2023",
          "4/24/2023",
          "4/25/2023",
          "4/26/2023",
          "4/27/2023",
          "4/28/2023",
          "5/1/2023",
          "5/2/2023",
          "5/3/2023",
          "5/4/2023",
          "5/5/2023",
          "5/8/2023",
          "5/9/2023",
          "5/10/2023",
          "5/11/2023",
          "5/12/2023",
          "5/15/2023",
          "5/16/2023",
          "5/17/2023",
          "5/18/2023",
          "5/19/2023",
          "5/22/2023",
          "5/23/2023",
          "5/24/2023",
          "5/25/2023",
          "5/26/2023",
          "5/30/2023",
          "5/31/2023",
          "6/1/2023",
          "6/2/2023",
          "6/5/2023",
          "6/6/2023",
          "6/7/2023",
          "6/8/2023",
          "6/9/2023",
          "6/12/2023",
          "6/13/2023",
          "6/14/2023",
          "6/15/2023",
          "6/16/2023",
          "6/20/2023",
          "6/21/2023",
          "6/22/2023",
          "6/23/2023",
          "6/26/2023",
          "6/27/2023",
          "6/28/2023",
          "6/29/2023",
          "6/30/2023",
          "7/3/2023",
          "7/5/2023",
          "7/6/2023",
          "7/7/2023",
          "7/10/2023",
          "7/11/2023",
          "7/12/2023",
          "7/13/2023",
          "7/14/2023",
          "7/17/2023",
          "7/18/2023",
          "7/19/2023",
          "7/20/2023",
          "7/21/2023",
          "7/24/2023",
          "7/25/2023",
          "7/26/2023",
          "7/27/2023",
          "7/28/2023",
          "7/31/2023",
          "8/1/2023",
          "8/2/2023",
          "8/3/2023",
          "8/4/2023",
          "8/7/2023",
          "8/8/2023",
          "8/9/2023",
          "8/10/2023",
          "8/11/2023",
          "8/14/2023",
          "8/15/2023",
          "8/16/2023",
          "8/17/2023",
          "8/18/2023",
          "8/21/2023",
          "8/22/2023",
          "8/23/2023",
          "8/24/2023",
          "8/25/2023",
          "8/28/2023",
          "8/29/2023",
          "8/30/2023",
          "8/31/2023",
          "9/1/2023",
          "9/5/2023",
          "9/6/2023",
          "9/7/2023",
          "9/8/2023",
          "9/11/2023",
          "9/12/2023",
          "9/13/2023",
          "9/14/2023",
          "9/15/2023",
          "9/18/2023",
          "9/19/2023",
          "9/20/2023",
          "9/21/2023",
          "9/22/2023",
          "9/25/2023",
          "9/26/2023",
          "9/27/2023",
          "9/28/2023",
          "9/29/2023",
          "10/2/2023",
          "10/3/2023",
          "10/4/2023",
          "10/5/2023",
          "10/6/2023",
          "10/9/2023",
          "10/10/2023",
          "10/11/2023",
          "10/12/2023",
          "10/13/2023",
          "10/16/2023",
          "10/17/2023",
          "10/18/2023",
          "10/19/2023",
          "10/20/2023",
          "10/23/2023",
          "10/24/2023",
          "10/25/2023",
          "10/26/2023",
          "10/27/2023",
          "10/30/2023",
          "10/31/2023",
          "11/1/2023",
          "11/2/2023",
          "11/3/2023",
          "11/6/2023",
          "11/7/2023",
          "11/8/2023",
          "11/9/2023",
          "11/10/2023",
          "11/13/2023",
          "11/14/2023",
          "11/15/2023",
          "11/16/2023",
          "11/17/2023",
          "11/20/2023",
          "11/21/2023",
          "11/22/2023",
          "11/24/2023",
          "11/27/2023",
          "11/28/2023",
          "11/29/2023",
          "11/30/2023",
          "12/1/2023",
          "12/4/2023",
          "12/5/2023",
          "12/6/2023",
          "12/7/2023",
          "12/8/2023",
          "12/11/2023",
          "12/12/2023",
          "12/13/2023",
          "12/14/2023",
          "12/15/2023",
          "12/18/2023",
          "12/19/2023",
          "12/20/2023",
          "12/21/2023",
          "12/22/2023",
          "12/26/2023",
          "12/27/2023",
          "12/28/2023",
          "12/29/2023",
          "1/2/2024",
          "1/3/2024",
          "1/4/2024",
          "1/5/2024",
          "1/8/2024",
          "1/9/2024",
          "1/10/2024",
          "1/11/2024",
          "1/12/2024",
          "1/16/2024",
          "1/17/2024",
          "1/18/2024",
          "1/19/2024",
          "1/22/2024",
          "1/23/2024",
          "1/24/2024",
          "1/25/2024",
          "1/26/2024",
          "1/29/2024",
          "1/30/2024",
          "1/31/2024",
          "2/1/2024",
          "2/2/2024",
          "2/5/2024",
          "2/6/2024",
          "2/7/2024",
          "2/8/2024",
          "2/9/2024",
          "2/12/2024",
          "2/13/2024",
          "2/14/2024",
          "2/15/2024",
          "2/16/2024",
          "2/20/2024",
          "2/21/2024",
          "2/22/2024",
          "2/23/2024",
          "2/26/2024",
          "2/27/2024",
          "2/28/2024",
          "2/29/2024",
          "3/1/2024",
          "3/4/2024",
          "3/5/2024",
          "3/6/2024",
          "3/7/2024",
          "3/8/2024",
          "3/11/2024",
          "3/12/2024",
          "3/13/2024",
          "3/14/2024",
          "3/15/2024",
          "3/18/2024",
          "3/19/2024",
          "3/20/2024",
          "3/21/2024",
          "3/22/2024",
          "3/25/2024",
          "3/26/2024",
          "3/27/2024",
          "3/28/2024",
          "4/1/2024",
          "4/2/2024",
          "4/3/2024",
          "4/4/2024",
          "4/5/2024",
          "4/8/2024",
          "4/9/2024",
          "4/10/2024",
          "4/11/2024",
          "4/12/2024",
          "4/15/2024",
          "4/16/2024",
          "4/17/2024",
          "4/18/2024",
          "4/19/2024",
          "4/22/2024",
          "4/23/2024",
          "4/24/2024",
          "4/25/2024",
          "4/26/2024",
          "4/29/2024",
          "4/30/2024",
          "5/1/2024",
          "5/2/2024",
          "5/3/2024",
          "5/6/2024",
          "5/7/2024",
          "5/8/2024",
          "5/9/2024",
          "5/10/2024",
          "5/13/2024",
          "5/14/2024",
          "5/15/2024",
          "5/16/2024",
          "5/17/2024",
          "5/20/2024",
          "5/21/2024",
          "5/22/2024",
          "5/23/2024",
          "5/24/2024",
          "5/28/2024",
          "5/29/2024",
          "5/30/2024",
          "5/31/2024",
          "6/3/2024",
          "6/4/2024",
          "6/5/2024",
          "6/6/2024",
          "6/7/2024",
          "6/10/2024",
          "6/11/2024",
          "6/12/2024",
          "6/13/2024",
          "6/14/2024",
          "6/17/2024",
          "6/18/2024",
          "6/20/2024",
          "6/21/2024",
          "6/24/2024",
          "6/25/2024",
          "6/26/2024",
          "6/27/2024",
          "6/28/2024",
          "7/1/2024",
          "7/2/2024",
          "7/3/2024",
          "7/5/2024",
          "7/8/2024",
          "7/9/2024",
          "7/10/2024",
          "7/11/2024",
          "7/12/2024",
          "7/15/2024",
          "7/16/2024",
          "7/17/2024",
          "7/18/2024",
          "7/19/2024",
          "7/22/2024",
          "7/23/2024",
          "7/24/2024",
          "7/25/2024",
          "7/26/2024",
          "7/29/2024",
          "7/30/2024",
          "7/31/2024",
          "8/1/2024",
          "8/2/2024",
          "8/5/2024",
          "8/6/2024",
          "8/7/2024",
          "8/8/2024",
          "8/9/2024",
          "8/12/2024",
          "8/13/2024",
          "8/14/2024",
          "8/15/2024",
          "8/16/2024",
          "8/19/2024",
          "8/20/2024",
          "8/21/2024",
          "8/22/2024",
          "8/23/2024",
          "8/26/2024",
          "8/27/2024",
          "8/28/2024",
          "8/29/2024",
          "8/30/2024",
          "9/3/2024",
          "9/4/2024",
          "9/5/2024",
          "9/6/2024",
          "9/9/2024",
          "9/10/2024",
          "9/11/2024",
          "9/12/2024",
          "9/13/2024",
          "9/16/2024",
          "9/17/2024",
          "9/18/2024",
          "9/19/2024",
          "9/20/2024",
          "9/23/2024",
          "9/24/2024",
          "9/25/2024",
          "9/26/2024",
          "9/27/2024",
          "9/30/2024",
          "10/1/2024",
          "10/2/2024",
          "10/3/2024",
          "10/4/2024",
          "10/7/2024",
          "10/8/2024",
          "10/9/2024",
          "10/10/2024",
          "10/11/2024",
          "10/14/2024",
          "10/15/2024",
          "10/16/2024",
          "10/17/2024",
          "10/18/2024",
          "10/21/2024",
          "10/22/2024",
          "10/23/2024",
          "10/24/2024",
          "10/25/2024",
          "10/28/2024",
          "10/29/2024",
          "10/30/2024",
          "10/31/2024",
          "11/1/2024",
          "11/4/2024",
          "11/5/2024",
          "11/6/2024",
          "11/7/2024",
          "11/8/2024",
          "11/11/2024",
          "11/12/2024",
          "11/13/2024",
          "11/14/2024",
          "11/15/2024",
          "11/18/2024",
          "11/19/2024",
          "11/20/2024",
          "11/21/2024",
          "11/22/2024",
          "11/25/2024",
          "11/26/2024",
          "11/27/2024",
          "11/29/2024",
          "12/2/2024",
          "12/3/2024",
          "12/4/2024",
          "12/5/2024",
          "12/6/2024",
          "12/9/2024",
          "12/10/2024",
          "12/11/2024",
          "12/12/2024",
          "12/13/2024",
          "12/16/2024",
          "12/17/2024",
          "12/18/2024",
          "12/19/2024",
          "12/20/2024",
          "12/23/2024",
          "12/24/2024",
          "12/26/2024",
          "12/27/2024",
          "12/30/2024",
          "12/31/2024",
          "1/2/2025",
          "1/3/2025",
          "1/6/2025",
          "1/7/2025",
          "1/8/2025",
          "1/10/2025",
          "1/13/2025",
          "1/14/2025",
          "1/15/2025",
          "1/16/2025",
          "1/17/2025",
          "1/21/2025",
          "1/22/2025",
          "1/23/2025",
          "1/24/2025",
          "1/27/2025",
          "1/28/2025",
          "1/29/2025",
          "1/30/2025",
          "1/31/2025",
          "2/3/2025",
          "2/4/2025",
          "2/5/2025",
          "2/6/2025",
          "2/7/2025",
          "2/10/2025",
          "2/11/2025",
          "2/12/2025",
          "2/13/2025",
          "2/14/2025",
          "2/18/2025",
          "2/19/2025",
          "2/20/2025",
          "2/21/2025",
          "2/24/2025",
          "2/25/2025",
          "2/26/2025",
          "2/27/2025",
          "2/28/2025",
          "3/3/2025",
          "3/4/2025",
          "3/5/2025",
          "3/6/2025",
          "3/7/2025",
          "3/10/2025",
          "3/11/2025",
          "3/12/2025",
          "3/13/2025",
          "3/14/2025",
          "3/17/2025",
          "3/18/2025",
          "3/19/2025",
          "3/20/2025",
          "3/21/2025",
          "3/24/2025",
          "3/25/2025",
          "3/26/2025",
          "3/27/2025",
          "3/28/2025",
          "3/31/2025",
          "4/1/2025",
          "4/2/2025",
          "4/3/2025",
          "4/4/2025",
          "4/7/2025",
          "4/8/2025",
          "4/9/2025"
         ],
         "xaxis": "x",
         "y": {
          "bdata": "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",
          "dtype": "f8"
         },
         "yaxis": "y"
        }
       ],
       "layout": {
        "legend": {
         "tracegroupgap": 0
        },
        "template": {
         "data": {
          "bar": [
           {
            "error_x": {
             "color": "#2a3f5f"
            },
            "error_y": {
             "color": "#2a3f5f"
            },
            "marker": {
             "line": {
              "color": "white",
              "width": 0.5
             },
             "pattern": {
              "fillmode": "overlay",
              "size": 10,
              "solidity": 0.2
             }
            },
            "type": "bar"
           }
          ],
          "barpolar": [
           {
            "marker": {
             "line": {
              "color": "white",
              "width": 0.5
             },
             "pattern": {
              "fillmode": "overlay",
              "size": 10,
              "solidity": 0.2
             }
            },
            "type": "barpolar"
           }
          ],
          "carpet": [
           {
            "aaxis": {
             "endlinecolor": "#2a3f5f",
             "gridcolor": "#C8D4E3",
             "linecolor": "#C8D4E3",
             "minorgridcolor": "#C8D4E3",
             "startlinecolor": "#2a3f5f"
            },
            "baxis": {
             "endlinecolor": "#2a3f5f",
             "gridcolor": "#C8D4E3",
             "linecolor": "#C8D4E3",
             "minorgridcolor": "#C8D4E3",
             "startlinecolor": "#2a3f5f"
            },
            "type": "carpet"
           }
          ],
          "choropleth": [
           {
            "colorbar": {
             "outlinewidth": 0,
             "ticks": ""
            },
            "type": "choropleth"
           }
          ],
          "contour": [
           {
            "colorbar": {
             "outlinewidth": 0,
             "ticks": ""
            },
            "colorscale": [
             [
              0,
              "#0d0887"
             ],
             [
              0.1111111111111111,
              "#46039f"
             ],
             [
              0.2222222222222222,
              "#7201a8"
             ],
             [
              0.3333333333333333,
              "#9c179e"
             ],
             [
              0.4444444444444444,
              "#bd3786"
             ],
             [
              0.5555555555555556,
              "#d8576b"
             ],
             [
              0.6666666666666666,
              "#ed7953"
             ],
             [
              0.7777777777777778,
              "#fb9f3a"
             ],
             [
              0.8888888888888888,
              "#fdca26"
             ],
             [
              1,
              "#f0f921"
             ]
            ],
            "type": "contour"
           }
          ],
          "contourcarpet": [
           {
            "colorbar": {
             "outlinewidth": 0,
             "ticks": ""
            },
            "type": "contourcarpet"
           }
          ],
          "heatmap": [
           {
            "colorbar": {
             "outlinewidth": 0,
             "ticks": ""
            },
            "colorscale": [
             [
              0,
              "#0d0887"
             ],
             [
              0.1111111111111111,
              "#46039f"
             ],
             [
              0.2222222222222222,
              "#7201a8"
             ],
             [
              0.3333333333333333,
              "#9c179e"
             ],
             [
              0.4444444444444444,
              "#bd3786"
             ],
             [
              0.5555555555555556,
              "#d8576b"
             ],
             [
              0.6666666666666666,
              "#ed7953"
             ],
             [
              0.7777777777777778,
              "#fb9f3a"
             ],
             [
              0.8888888888888888,
              "#fdca26"
             ],
             [
              1,
              "#f0f921"
             ]
            ],
            "type": "heatmap"
           }
          ],
          "histogram": [
           {
            "marker": {
             "pattern": {
              "fillmode": "overlay",
              "size": 10,
              "solidity": 0.2
             }
            },
            "type": "histogram"
           }
          ],
          "histogram2d": [
           {
            "colorbar": {
             "outlinewidth": 0,
             "ticks": ""
            },
            "colorscale": [
             [
              0,
              "#0d0887"
             ],
             [
              0.1111111111111111,
              "#46039f"
             ],
             [
              0.2222222222222222,
              "#7201a8"
             ],
             [
              0.3333333333333333,
              "#9c179e"
             ],
             [
              0.4444444444444444,
              "#bd3786"
             ],
             [
              0.5555555555555556,
              "#d8576b"
             ],
             [
              0.6666666666666666,
              "#ed7953"
             ],
             [
              0.7777777777777778,
              "#fb9f3a"
             ],
             [
              0.8888888888888888,
              "#fdca26"
             ],
             [
              1,
              "#f0f921"
             ]
            ],
            "type": "histogram2d"
           }
          ],
          "histogram2dcontour": [
           {
            "colorbar": {
             "outlinewidth": 0,
             "ticks": ""
            },
            "colorscale": [
             [
              0,
              "#0d0887"
             ],
             [
              0.1111111111111111,
              "#46039f"
             ],
             [
              0.2222222222222222,
              "#7201a8"
             ],
             [
              0.3333333333333333,
              "#9c179e"
             ],
             [
              0.4444444444444444,
              "#bd3786"
             ],
             [
              0.5555555555555556,
              "#d8576b"
             ],
             [
              0.6666666666666666,
              "#ed7953"
             ],
             [
              0.7777777777777778,
              "#fb9f3a"
             ],
             [
              0.8888888888888888,
              "#fdca26"
             ],
             [
              1,
              "#f0f921"
             ]
            ],
            "type": "histogram2dcontour"
           }
          ],
          "mesh3d": [
           {
            "colorbar": {
             "outlinewidth": 0,
             "ticks": ""
            },
            "type": "mesh3d"
           }
          ],
          "parcoords": [
           {
            "line": {
             "colorbar": {
              "outlinewidth": 0,
              "ticks": ""
             }
            },
            "type": "parcoords"
           }
          ],
          "pie": [
           {
            "automargin": true,
            "type": "pie"
           }
          ],
          "scatter": [
           {
            "fillpattern": {
             "fillmode": "overlay",
             "size": 10,
             "solidity": 0.2
            },
            "type": "scatter"
           }
          ],
          "scatter3d": [
           {
            "line": {
             "colorbar": {
              "outlinewidth": 0,
              "ticks": ""
             }
            },
            "marker": {
             "colorbar": {
              "outlinewidth": 0,
              "ticks": ""
             }
            },
            "type": "scatter3d"
           }
          ],
          "scattercarpet": [
           {
            "marker": {
             "colorbar": {
              "outlinewidth": 0,
              "ticks": ""
             }
            },
            "type": "scattercarpet"
           }
          ],
          "scattergeo": [
           {
            "marker": {
             "colorbar": {
              "outlinewidth": 0,
              "ticks": ""
             }
            },
            "type": "scattergeo"
           }
          ],
          "scattergl": [
           {
            "marker": {
             "colorbar": {
              "outlinewidth": 0,
              "ticks": ""
             }
            },
            "type": "scattergl"
           }
          ],
          "scattermap": [
           {
            "marker": {
             "colorbar": {
              "outlinewidth": 0,
              "ticks": ""
             }
            },
            "type": "scattermap"
           }
          ],
          "scattermapbox": [
           {
            "marker": {
             "colorbar": {
              "outlinewidth": 0,
              "ticks": ""
             }
            },
            "type": "scattermapbox"
           }
          ],
          "scatterpolar": [
           {
            "marker": {
             "colorbar": {
              "outlinewidth": 0,
              "ticks": ""
             }
            },
            "type": "scatterpolar"
           }
          ],
          "scatterpolargl": [
           {
            "marker": {
             "colorbar": {
              "outlinewidth": 0,
              "ticks": ""
             }
            },
            "type": "scatterpolargl"
           }
          ],
          "scatterternary": [
           {
            "marker": {
             "colorbar": {
              "outlinewidth": 0,
              "ticks": ""
             }
            },
            "type": "scatterternary"
           }
          ],
          "surface": [
           {
            "colorbar": {
             "outlinewidth": 0,
             "ticks": ""
            },
            "colorscale": [
             [
              0,
              "#0d0887"
             ],
             [
              0.1111111111111111,
              "#46039f"
             ],
             [
              0.2222222222222222,
              "#7201a8"
             ],
             [
              0.3333333333333333,
              "#9c179e"
             ],
             [
              0.4444444444444444,
              "#bd3786"
             ],
             [
              0.5555555555555556,
              "#d8576b"
             ],
             [
              0.6666666666666666,
              "#ed7953"
             ],
             [
              0.7777777777777778,
              "#fb9f3a"
             ],
             [
              0.8888888888888888,
              "#fdca26"
             ],
             [
              1,
              "#f0f921"
             ]
            ],
            "type": "surface"
           }
          ],
          "table": [
           {
            "cells": {
             "fill": {
              "color": "#EBF0F8"
             },
             "line": {
              "color": "white"
             }
            },
            "header": {
             "fill": {
              "color": "#C8D4E3"
             },
             "line": {
              "color": "white"
             }
            },
            "type": "table"
           }
          ]
         },
         "layout": {
          "annotationdefaults": {
           "arrowcolor": "#2a3f5f",
           "arrowhead": 0,
           "arrowwidth": 1
          },
          "autotypenumbers": "strict",
          "coloraxis": {
           "colorbar": {
            "outlinewidth": 0,
            "ticks": ""
           }
          },
          "colorscale": {
           "diverging": [
            [
             0,
             "#8e0152"
            ],
            [
             0.1,
             "#c51b7d"
            ],
            [
             0.2,
             "#de77ae"
            ],
            [
             0.3,
             "#f1b6da"
            ],
            [
             0.4,
             "#fde0ef"
            ],
            [
             0.5,
             "#f7f7f7"
            ],
            [
             0.6,
             "#e6f5d0"
            ],
            [
             0.7,
             "#b8e186"
            ],
            [
             0.8,
             "#7fbc41"
            ],
            [
             0.9,
             "#4d9221"
            ],
            [
             1,
             "#276419"
            ]
           ],
           "sequential": [
            [
             0,
             "#0d0887"
            ],
            [
             0.1111111111111111,
             "#46039f"
            ],
            [
             0.2222222222222222,
             "#7201a8"
            ],
            [
             0.3333333333333333,
             "#9c179e"
            ],
            [
             0.4444444444444444,
             "#bd3786"
            ],
            [
             0.5555555555555556,
             "#d8576b"
            ],
            [
             0.6666666666666666,
             "#ed7953"
            ],
            [
             0.7777777777777778,
             "#fb9f3a"
            ],
            [
             0.8888888888888888,
             "#fdca26"
            ],
            [
             1,
             "#f0f921"
            ]
           ],
           "sequentialminus": [
            [
             0,
             "#0d0887"
            ],
            [
             0.1111111111111111,
             "#46039f"
            ],
            [
             0.2222222222222222,
             "#7201a8"
            ],
            [
             0.3333333333333333,
             "#9c179e"
            ],
            [
             0.4444444444444444,
             "#bd3786"
            ],
            [
             0.5555555555555556,
             "#d8576b"
            ],
            [
             0.6666666666666666,
             "#ed7953"
            ],
            [
             0.7777777777777778,
             "#fb9f3a"
            ],
            [
             0.8888888888888888,
             "#fdca26"
            ],
            [
             1,
             "#f0f921"
            ]
           ]
          },
          "colorway": [
           "#636efa",
           "#EF553B",
           "#00cc96",
           "#ab63fa",
           "#FFA15A",
           "#19d3f3",
           "#FF6692",
           "#B6E880",
           "#FF97FF",
           "#FECB52"
          ],
          "font": {
           "color": "#2a3f5f"
          },
          "geo": {
           "bgcolor": "white",
           "lakecolor": "white",
           "landcolor": "white",
           "showlakes": true,
           "showland": true,
           "subunitcolor": "#C8D4E3"
          },
          "hoverlabel": {
           "align": "left"
          },
          "hovermode": "closest",
          "mapbox": {
           "style": "light"
          },
          "paper_bgcolor": "white",
          "plot_bgcolor": "white",
          "polar": {
           "angularaxis": {
            "gridcolor": "#EBF0F8",
            "linecolor": "#EBF0F8",
            "ticks": ""
           },
           "bgcolor": "white",
           "radialaxis": {
            "gridcolor": "#EBF0F8",
            "linecolor": "#EBF0F8",
            "ticks": ""
           }
          },
          "scene": {
           "xaxis": {
            "backgroundcolor": "white",
            "gridcolor": "#DFE8F3",
            "gridwidth": 2,
            "linecolor": "#EBF0F8",
            "showbackground": true,
            "ticks": "",
            "zerolinecolor": "#EBF0F8"
           },
           "yaxis": {
            "backgroundcolor": "white",
            "gridcolor": "#DFE8F3",
            "gridwidth": 2,
            "linecolor": "#EBF0F8",
            "showbackground": true,
            "ticks": "",
            "zerolinecolor": "#EBF0F8"
           },
           "zaxis": {
            "backgroundcolor": "white",
            "gridcolor": "#DFE8F3",
            "gridwidth": 2,
            "linecolor": "#EBF0F8",
            "showbackground": true,
            "ticks": "",
            "zerolinecolor": "#EBF0F8"
           }
          },
          "shapedefaults": {
           "line": {
            "color": "#2a3f5f"
           }
          },
          "ternary": {
           "aaxis": {
            "gridcolor": "#DFE8F3",
            "linecolor": "#A2B1C6",
            "ticks": ""
           },
           "baxis": {
            "gridcolor": "#DFE8F3",
            "linecolor": "#A2B1C6",
            "ticks": ""
           },
           "bgcolor": "white",
           "caxis": {
            "gridcolor": "#DFE8F3",
            "linecolor": "#A2B1C6",
            "ticks": ""
           }
          },
          "title": {
           "x": 0.05
          },
          "xaxis": {
           "automargin": true,
           "gridcolor": "#EBF0F8",
           "linecolor": "#EBF0F8",
           "ticks": "",
           "title": {
            "standoff": 15
           },
           "zerolinecolor": "#EBF0F8",
           "zerolinewidth": 2
          },
          "yaxis": {
           "automargin": true,
           "gridcolor": "#EBF0F8",
           "linecolor": "#EBF0F8",
           "ticks": "",
           "title": {
            "standoff": 15
           },
           "zerolinecolor": "#EBF0F8",
           "zerolinewidth": 2
          }
         }
        },
        "title": {
         "text": "Dow Jones Historical Price"
        },
        "xaxis": {
         "anchor": "y",
         "domain": [
          0,
          1
         ],
         "title": {
          "text": "Year"
         }
        },
        "yaxis": {
         "anchor": "x",
         "domain": [
          0,
          1
         ],
         "title": {
          "text": "Price"
         }
        }
       }
      }
     },
     "metadata": {},
     "output_type": "display_data"
    }
   ],
   "source": [
    "import plotly.express as px\n",
    "import pandas as pd\n",
    "\n",
    "data = pd.read_csv(\"https://raw.githubusercontent.com/khemkandel/research-public/refs/heads/main/dow-jones-prices.csv\")\n",
    "data[:10]\n",
    "\n",
    "\n",
    "fig = px.line(\n",
    "    data,\n",
    "    x='date',\n",
    "    y='value',\n",
    "    title='Dow Jones Historical Price',\n",
    "    labels={'value': 'Price'}, \n",
    "    markers=True  # Optional: show markers on points\n",
    ")\n",
    "\n",
    "# Customize layout if needed\n",
    "fig.update_layout(\n",
    "    xaxis_title='Year',\n",
    "    yaxis_title='Price',\n",
    "    template='plotly_white',  # clean background\n",
    "\n",
    ")\n",
    "\n",
    "\n",
    "\n",
    "fig.show()\n"
   ]
  }
 ],
 "metadata": {
  "language_info": {
   "name": "python"
  }
 },
 "nbformat": 4,
 "nbformat_minor": 2
}
